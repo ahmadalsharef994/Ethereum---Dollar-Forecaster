{
 "cells": [
  {
   "cell_type": "markdown",
   "metadata": {},
   "source": [
    "## STOCK MARKET - Window method IndRNN"
   ]
  },
  {
   "cell_type": "markdown",
   "metadata": {},
   "source": [
    "### Problem Description\n",
    "The problem we are going to look at in this post is the stock market prices prediction problem.\n",
    "\n",
    "This is a problem where, given a day, month, and a year, the task is to predict the price of next days stocks . The data ranges from 1996 to 2010,  with 4836 observations."
   ]
  },
  {
   "cell_type": "markdown",
   "metadata": {},
   "source": [
    "** Name of the Dataset **  “TATAMOTORS.BO.xlsx'“"
   ]
  },
  {
   "cell_type": "code",
   "execution_count": 200,
   "metadata": {},
   "outputs": [],
   "source": [
    "from __future__ import print_function\n",
    "import os\n",
    "import numpy\n",
    "import pandas\n",
    "import math\n",
    "\n",
    "import matplotlib.pyplot as plt\n",
    "%matplotlib inline\n",
    "from sklearn.preprocessing import MinMaxScaler\n",
    "from sklearn.metrics import mean_squared_error\n",
    "from keras.models import Sequential\n",
    "from keras.layers import Dense\n",
    "from keras.callbacks import ModelCheckpoint\n",
    "from ind_rnn import IndRNNCell, RNN"
   ]
  },
  {
   "cell_type": "code",
   "execution_count": null,
   "metadata": {},
   "outputs": [],
   "source": []
  },
  {
   "cell_type": "code",
   "execution_count": 201,
   "metadata": {},
   "outputs": [
    {
     "data": {
      "text/html": [
       "<div>\n",
       "<style scoped>\n",
       "    .dataframe tbody tr th:only-of-type {\n",
       "        vertical-align: middle;\n",
       "    }\n",
       "\n",
       "    .dataframe tbody tr th {\n",
       "        vertical-align: top;\n",
       "    }\n",
       "\n",
       "    .dataframe thead th {\n",
       "        text-align: right;\n",
       "    }\n",
       "</style>\n",
       "<table border=\"1\" class=\"dataframe\">\n",
       "  <thead>\n",
       "    <tr style=\"text-align: right;\">\n",
       "      <th></th>\n",
       "      <th>Date</th>\n",
       "      <th>Close</th>\n",
       "    </tr>\n",
       "  </thead>\n",
       "  <tbody>\n",
       "    <tr>\n",
       "      <th>0</th>\n",
       "      <td>2015-08-07</td>\n",
       "      <td>2.772120</td>\n",
       "    </tr>\n",
       "    <tr>\n",
       "      <th>1</th>\n",
       "      <td>2015-08-10</td>\n",
       "      <td>0.708448</td>\n",
       "    </tr>\n",
       "    <tr>\n",
       "      <th>2</th>\n",
       "      <td>2015-08-11</td>\n",
       "      <td>1.067860</td>\n",
       "    </tr>\n",
       "    <tr>\n",
       "      <th>3</th>\n",
       "      <td>2015-08-12</td>\n",
       "      <td>1.217440</td>\n",
       "    </tr>\n",
       "    <tr>\n",
       "      <th>4</th>\n",
       "      <td>2015-08-13</td>\n",
       "      <td>1.827670</td>\n",
       "    </tr>\n",
       "  </tbody>\n",
       "</table>\n",
       "</div>"
      ],
      "text/plain": [
       "        Date     Close\n",
       "0 2015-08-07  2.772120\n",
       "1 2015-08-10  0.708448\n",
       "2 2015-08-11  1.067860\n",
       "3 2015-08-12  1.217440\n",
       "4 2015-08-13  1.827670"
      ]
     },
     "execution_count": 201,
     "metadata": {},
     "output_type": "execute_result"
    }
   ],
   "source": [
    "dataset = pandas.read_excel('ETHUSD=X.xlsx', usecols=[0,4], skipfooter=3)\n",
    "dataset.fillna(method='ffill', inplace=True)\n",
    "\n",
    "dataset.head()"
   ]
  },
  {
   "cell_type": "code",
   "execution_count": 202,
   "metadata": {},
   "outputs": [
    {
     "data": {
      "image/png": "[encoded data removed]",
      "text/plain": [
       "<Figure size 432x288 with 1 Axes>"
      ]
     },
     "metadata": {
      "needs_background": "light"
     },
     "output_type": "display_data"
    }
   ],
   "source": [
    "plt.plot(dataset['Close'])\n",
    "plt.show()"
   ]
  },
  {
   "cell_type": "markdown",
   "metadata": {},
   "source": [
    "#### Normally, it is a good idea to investigate various data preparation techniques to rescale the data and to make it stationary."
   ]
  },
  {
   "cell_type": "markdown",
   "metadata": {},
   "source": [
    "Before we do anything, it is a good idea to fix the random number seed to ensure our results are reproducible"
   ]
  },
  {
   "cell_type": "code",
   "execution_count": 203,
   "metadata": {},
   "outputs": [
    {
     "data": {
      "text/html": [
       "<div>\n",
       "<style scoped>\n",
       "    .dataframe tbody tr th:only-of-type {\n",
       "        vertical-align: middle;\n",
       "    }\n",
       "\n",
       "    .dataframe tbody tr th {\n",
       "        vertical-align: top;\n",
       "    }\n",
       "\n",
       "    .dataframe thead th {\n",
       "        text-align: right;\n",
       "    }\n",
       "</style>\n",
       "<table border=\"1\" class=\"dataframe\">\n",
       "  <thead>\n",
       "    <tr style=\"text-align: right;\">\n",
       "      <th></th>\n",
       "      <th>Close</th>\n",
       "    </tr>\n",
       "  </thead>\n",
       "  <tbody>\n",
       "    <tr>\n",
       "      <th>0</th>\n",
       "      <td>2.772120</td>\n",
       "    </tr>\n",
       "    <tr>\n",
       "      <th>1</th>\n",
       "      <td>0.708448</td>\n",
       "    </tr>\n",
       "    <tr>\n",
       "      <th>2</th>\n",
       "      <td>1.067860</td>\n",
       "    </tr>\n",
       "    <tr>\n",
       "      <th>3</th>\n",
       "      <td>1.217440</td>\n",
       "    </tr>\n",
       "    <tr>\n",
       "      <th>4</th>\n",
       "      <td>1.827670</td>\n",
       "    </tr>\n",
       "  </tbody>\n",
       "</table>\n",
       "</div>"
      ],
      "text/plain": [
       "      Close\n",
       "0  2.772120\n",
       "1  0.708448\n",
       "2  1.067860\n",
       "3  1.217440\n",
       "4  1.827670"
      ]
     },
     "execution_count": 203,
     "metadata": {},
     "output_type": "execute_result"
    }
   ],
   "source": [
    "# fix random seed for reproducibility\n",
    "numpy.random.seed(7)\n",
    "\n",
    "# load the dataset sales-of-soaps.csv\n",
    "dataframe = pandas.read_excel('ETHUSD=X.xlsx', usecols=[4])\n",
    "#dataframe = pandas.read_csv('international-airline-passengers.csv', usecols=[1], engine='python')\n",
    "dataframe.fillna(method='ffill', inplace=True)\n",
    "\n",
    "dataframe.head()\n",
    "#print(type(dataframe.dtypes))"
   ]
  },
  {
   "cell_type": "markdown",
   "metadata": {},
   "source": []
  },
  {
   "cell_type": "code",
   "execution_count": null,
   "metadata": {},
   "outputs": [],
   "source": []
  },
  {
   "cell_type": "markdown",
   "metadata": {},
   "source": [
    "- ** extract the NumPy array from the dataframe** <br>\n",
    "- Then **convert the integer values to floating point values**, which are more suitable for modeling with a neural network."
   ]
  },
  {
   "cell_type": "code",
   "execution_count": 204,
   "metadata": {},
   "outputs": [],
   "source": [
    "dataset = dataframe.values      ##   convert the data-frame to its Numpy-array\n",
    "dataset = dataset.astype('float32')"
   ]
  },
  {
   "cell_type": "code",
   "execution_count": 205,
   "metadata": {},
   "outputs": [
    {
     "name": "stdout",
     "output_type": "stream",
     "text": [
      "<class 'pandas.core.series.Series'>\n"
     ]
    }
   ],
   "source": [
    "# normalize the dataset\n",
    "scaler = MinMaxScaler(feature_range=(0, 1))\n",
    "dataset = scaler.fit_transform(dataset)\n",
    "print(type(dataframe.dtypes))"
   ]
  },
  {
   "cell_type": "code",
   "execution_count": null,
   "metadata": {},
   "outputs": [],
   "source": []
  },
  {
   "cell_type": "markdown",
   "metadata": {},
   "source": [
    "Doing a Train-Test Split<br>\n",
    "Train: 67%<br>\n",
    "Test:  33%"
   ]
  },
  {
   "cell_type": "code",
   "execution_count": 206,
   "metadata": {},
   "outputs": [
    {
     "name": "stdout",
     "output_type": "stream",
     "text": [
      "798 394\n"
     ]
    }
   ],
   "source": [
    "# split into train and test sets\n",
    "train_size = int(len(dataset) * 0.67)\n",
    "test_size = len(dataset) - train_size\n",
    "\n",
    "train, test = dataset[0:train_size,:], dataset[train_size:len(dataset),:]\n",
    "print(len(train), len(test))"
   ]
  },
  {
   "cell_type": "markdown",
   "metadata": {},
   "source": []
  },
  {
   "cell_type": "code",
   "execution_count": 207,
   "metadata": {},
   "outputs": [],
   "source": [
    "forward_days=10\n",
    "# convert an array of values into a dataset matrix\n",
    "def create_dataset(dataset, look_back=40):\n",
    "\tdataX, dataY = [], []\n",
    "\tfor i in range(len(dataset)-look_back-forward_days+1):\n",
    "\t\ta = dataset[i:(i+look_back), 0]\n",
    "\t\tdataX.append(a)\n",
    "\t\tdataY.append(dataset[i + look_back, 0])\n",
    "\treturn numpy.array(dataX), numpy.array(dataY)"
   ]
  },
  {
   "cell_type": "markdown",
   "metadata": {},
   "source": [
    "\n",
    "Let’s use this function to prepare the train and test datasets for modeling."
   ]
  },
  {
   "cell_type": "code",
   "execution_count": 208,
   "metadata": {},
   "outputs": [],
   "source": [
    "# reshape into X=t and Y=t+1\n",
    "look_back = 40\n",
    "\n",
    "trainX, trainY = create_dataset(train, look_back)\n",
    "testX, testY = create_dataset(test, look_back)"
   ]
  },
  {
   "cell_type": "markdown",
   "metadata": {},
   "source": []
  },
  {
   "cell_type": "markdown",
   "metadata": {},
   "source": []
  },
  {
   "cell_type": "code",
   "execution_count": 209,
   "metadata": {},
   "outputs": [
    {
     "data": {
      "text/plain": [
       "(749, 40, 1)"
      ]
     },
     "execution_count": 209,
     "metadata": {},
     "output_type": "execute_result"
    }
   ],
   "source": [
    "# reshape input to be [samples, time steps, features]\n",
    "\n",
    "trainX = numpy.reshape(trainX, (trainX.shape[0], trainX.shape[1], 1))\n",
    "testX = numpy.reshape(testX, (testX.shape[0], testX.shape[1], 1))\n",
    "trainX.shape"
   ]
  },
  {
   "cell_type": "code",
   "execution_count": null,
   "metadata": {},
   "outputs": [],
   "source": []
  },
  {
   "cell_type": "code",
   "execution_count": 210,
   "metadata": {},
   "outputs": [],
   "source": [
    "batch_size = 40\n",
    "num_classes = 10\n",
    "epochs = 10     # 200  \n",
    "hidden_units = 64  # 128\n",
    "\n",
    "learning_rate = 1e-3"
   ]
  },
  {
   "cell_type": "code",
   "execution_count": 128,
   "metadata": {},
   "outputs": [],
   "source": [
    "#from keras.models import load_model\n",
    "\n",
    "# cells = [IndRNNCell(hidden_units), IndRNNCell(hidden_units)]\n",
    "cells = [IndRNNCell(4), IndRNNCell(4)]\n",
    "\n",
    "from ind_rnn import IndRNNCell, RNN\n",
    "from ind_rnn import IndRNN\n",
    "#model = load_model('my_model.h5',  custom_objects={'IndRNNCell': IndRNNCell, 'IndRNN': IndRNN})"
   ]
  },
  {
   "cell_type": "code",
   "execution_count": 129,
   "metadata": {},
   "outputs": [
    {
     "name": "stdout",
     "output_type": "stream",
     "text": [
      "Evaluate IRNN...\n"
     ]
    },
    {
     "name": "stderr",
     "output_type": "stream",
     "text": [
      "C:\\Users\\1864012\\Documents\\THESIS CODES NEW\\Conference Results\\ind_rnn.py:143: UserWarning: IndRNNCell: Number of timesteps could not be determined. \n",
      "Defaulting to max clipping range of 1.0. \n",
      "If this model was trained using a specific timestep during training, inference may be wrong due to this default setting.\n",
      "Please ensure that you use the same number of timesteps during training and evaluation\n",
      "  warnings.warn(\"IndRNNCell: Number of timesteps could not be determined. \\n\"\n"
     ]
    },
    {
     "data": {
      "text/plain": [
       "'\\nReturn sequences\\nReturn sequences refer to return the hidden state a<t>. By default, the return_sequences is set to False in Keras RNN layers, and this means the RNN layer will only return the last hidden state output a<T>. The last hidden state output captures an abstract representation of the input sequence. In some case, it is all we need, such as a classification or regression model where the RNN is followed by the Dense layer(s) to generate logits for news topic classification or score for sentiment analysis, or in a generative model to produce the softmax probabilities for the next possible char.\\n\\nIn other cases, we need the full sequence as the output. Setting return_sequences to True is necessary.\\n'"
      ]
     },
     "execution_count": 129,
     "metadata": {},
     "output_type": "execute_result"
    }
   ],
   "source": [
    "\n",
    "print('Evaluate IRNN...')\n",
    "from ind_rnn import IndRNNCell, RNN\n",
    "from ind_rnn import IndRNN\n",
    "\n",
    "# create the IndRNN network\n",
    "model = Sequential()\n",
    "model.add(RNN(cells, input_shape=(look_back, 1), return_sequences=True))\n",
    "model.add(IndRNN(32, recurrent_clip_min=-1, recurrent_clip_max=-1, dropout=0.0, recurrent_dropout=0.0, return_sequences=True))\n",
    "model.add(RNN(cells, return_sequences=True))\n",
    "model.add(IndRNN(32, recurrent_clip_min=-1, recurrent_clip_max=-1, dropout=0.0, recurrent_dropout=0.0, return_sequences=True))\n",
    "model.add(RNN(cells, return_sequences=False))\n",
    "model.add(Dense(1))\n",
    "\n",
    "from keras import optimizers\n",
    "#optimizers.Adam(lr=0.01, beta_1=0.9, beta_2=0.999, epsilon=1e-08, decay=0.0)\n",
    "\n",
    "#adam = optimizers.Adam(lr=0.001, decay=1e-6)\n",
    "model.compile(loss='mean_squared_error', optimizer= 'adam', metrics=['accuracy'])\n",
    "\n",
    "\n",
    "'''\n",
    "Return sequences\n",
    "Return sequences refer to return the hidden state a<t>. By default, the return_sequences is set to False in Keras RNN layers, and this means the RNN layer will only return the last hidden state output a<T>. The last hidden state output captures an abstract representation of the input sequence. In some case, it is all we need, such as a classification or regression model where the RNN is followed by the Dense layer(s) to generate logits for news topic classification or score for sentiment analysis, or in a generative model to produce the softmax probabilities for the next possible char.\n",
    "\n",
    "In other cases, we need the full sequence as the output. Setting return_sequences to True is necessary.\n",
    "'''"
   ]
  },
  {
   "cell_type": "code",
   "execution_count": 189,
   "metadata": {},
   "outputs": [
    {
     "name": "stdout",
     "output_type": "stream",
     "text": [
      "[<keras.layers.recurrent.RNN object at 0x00000213E9327A88>, <ind_rnn.IndRNN object at 0x00000213E9327F48>, <keras.layers.recurrent.RNN object at 0x00000213E9316EC8>, <ind_rnn.IndRNN object at 0x00000213E940E608>, <keras.layers.recurrent.RNN object at 0x00000213E9316F88>, <keras.layers.core.Dense object at 0x00000213E93337C8>]\n",
      "[<tf.Tensor 'rnn_13_input:0' shape=(None, 40, 1) dtype=float32>]\n",
      "[<tf.Tensor 'dense_5/BiasAdd:0' shape=(None, 1) dtype=float32>]\n"
     ]
    }
   ],
   "source": [
    "#model.summary()\n",
    "print(model.layers)\n",
    "print(model.inputs)\n",
    "print(model.outputs)\n",
    "#print(model.get_config())"
   ]
  },
  {
   "cell_type": "code",
   "execution_count": null,
   "metadata": {},
   "outputs": [],
   "source": []
  },
  {
   "cell_type": "code",
   "execution_count": 211,
   "metadata": {},
   "outputs": [],
   "source": [
    "adam = optimizers.Adam(lr=0.001, decay=1e-6)\n",
    "model.compile(loss='mean_squared_error', optimizer= 'adam', metrics=['accuracy'])"
   ]
  },
  {
   "cell_type": "code",
   "execution_count": 212,
   "metadata": {},
   "outputs": [
    {
     "name": "stdout",
     "output_type": "stream",
     "text": [
      "Epoch 1/100\n",
      " - 3s - loss: 5.5787e-04 - accuracy: 0.0013\n",
      "Epoch 2/100\n",
      " - 1s - loss: 4.9463e-04 - accuracy: 0.0013\n",
      "Epoch 3/100\n",
      " - 2s - loss: 5.3757e-04 - accuracy: 0.0013\n",
      "Epoch 4/100\n",
      " - 2s - loss: 4.7017e-04 - accuracy: 0.0013\n",
      "Epoch 5/100\n",
      " - 2s - loss: 4.8407e-04 - accuracy: 0.0013\n",
      "Epoch 6/100\n",
      " - 2s - loss: 4.6665e-04 - accuracy: 0.0013\n",
      "Epoch 7/100\n",
      " - 2s - loss: 4.7898e-04 - accuracy: 0.0013\n",
      "Epoch 8/100\n",
      " - 2s - loss: 4.8728e-04 - accuracy: 0.0013\n",
      "Epoch 9/100\n",
      " - 2s - loss: 5.3758e-04 - accuracy: 0.0013\n",
      "Epoch 10/100\n",
      " - 2s - loss: 5.2371e-04 - accuracy: 0.0013\n",
      "Epoch 11/100\n",
      " - 2s - loss: 5.4651e-04 - accuracy: 0.0013\n",
      "Epoch 12/100\n",
      " - 2s - loss: 4.6101e-04 - accuracy: 0.0013\n",
      "Epoch 13/100\n",
      " - 2s - loss: 4.6998e-04 - accuracy: 0.0013\n",
      "Epoch 14/100\n",
      " - 2s - loss: 4.5713e-04 - accuracy: 0.0013\n",
      "Epoch 15/100\n",
      " - 2s - loss: 4.8575e-04 - accuracy: 0.0013\n",
      "Epoch 16/100\n",
      " - 2s - loss: 4.7776e-04 - accuracy: 0.0013\n",
      "Epoch 17/100\n",
      " - 2s - loss: 5.1146e-04 - accuracy: 0.0013\n",
      "Epoch 18/100\n",
      " - 2s - loss: 4.6662e-04 - accuracy: 0.0013\n",
      "Epoch 19/100\n",
      " - 2s - loss: 4.9687e-04 - accuracy: 0.0013\n",
      "Epoch 20/100\n",
      " - 2s - loss: 4.5471e-04 - accuracy: 0.0013\n",
      "Epoch 21/100\n",
      " - 2s - loss: 5.0214e-04 - accuracy: 0.0013\n",
      "Epoch 22/100\n",
      " - 2s - loss: 5.5307e-04 - accuracy: 0.0013\n",
      "Epoch 23/100\n",
      " - 2s - loss: 4.7395e-04 - accuracy: 0.0013\n",
      "Epoch 24/100\n",
      " - 2s - loss: 4.8785e-04 - accuracy: 0.0013\n",
      "Epoch 25/100\n",
      " - 2s - loss: 5.0847e-04 - accuracy: 0.0013\n",
      "Epoch 26/100\n",
      " - 2s - loss: 5.4492e-04 - accuracy: 0.0013\n",
      "Epoch 27/100\n",
      " - 2s - loss: 5.0628e-04 - accuracy: 0.0013\n",
      "Epoch 28/100\n",
      " - 2s - loss: 5.1903e-04 - accuracy: 0.0013\n",
      "Epoch 29/100\n",
      " - 2s - loss: 5.7316e-04 - accuracy: 0.0013\n",
      "Epoch 30/100\n",
      " - 2s - loss: 5.1757e-04 - accuracy: 0.0013\n",
      "Epoch 31/100\n",
      " - 2s - loss: 4.7634e-04 - accuracy: 0.0013\n",
      "Epoch 32/100\n",
      " - 2s - loss: 5.5036e-04 - accuracy: 0.0013\n",
      "Epoch 33/100\n",
      " - 2s - loss: 4.7904e-04 - accuracy: 0.0013\n",
      "Epoch 34/100\n",
      " - 2s - loss: 4.7807e-04 - accuracy: 0.0013\n",
      "Epoch 35/100\n",
      " - 2s - loss: 5.1448e-04 - accuracy: 0.0013\n",
      "Epoch 36/100\n",
      " - 2s - loss: 5.0071e-04 - accuracy: 0.0013\n",
      "Epoch 37/100\n",
      " - 2s - loss: 5.2843e-04 - accuracy: 0.0013\n",
      "Epoch 38/100\n",
      " - 2s - loss: 4.8997e-04 - accuracy: 0.0013\n",
      "Epoch 39/100\n",
      " - 2s - loss: 4.9030e-04 - accuracy: 0.0013\n",
      "Epoch 40/100\n",
      " - 2s - loss: 5.2247e-04 - accuracy: 0.0013\n",
      "Epoch 41/100\n",
      " - 2s - loss: 5.3830e-04 - accuracy: 0.0013\n",
      "Epoch 42/100\n",
      " - 2s - loss: 4.9773e-04 - accuracy: 0.0013\n",
      "Epoch 43/100\n",
      " - 2s - loss: 5.4512e-04 - accuracy: 0.0013\n",
      "Epoch 44/100\n",
      " - 2s - loss: 5.4834e-04 - accuracy: 0.0013\n",
      "Epoch 45/100\n",
      " - 2s - loss: 4.8553e-04 - accuracy: 0.0013\n",
      "Epoch 46/100\n",
      " - 2s - loss: 5.0567e-04 - accuracy: 0.0013\n",
      "Epoch 47/100\n",
      " - 1s - loss: 4.5581e-04 - accuracy: 0.0013\n",
      "Epoch 48/100\n",
      " - 2s - loss: 4.4650e-04 - accuracy: 0.0013\n",
      "Epoch 49/100\n",
      " - 2s - loss: 5.2263e-04 - accuracy: 0.0013\n",
      "Epoch 50/100\n",
      " - 2s - loss: 4.7207e-04 - accuracy: 0.0013\n",
      "Epoch 51/100\n",
      " - 2s - loss: 4.5608e-04 - accuracy: 0.0013\n",
      "Epoch 52/100\n",
      " - 2s - loss: 4.5825e-04 - accuracy: 0.0013\n",
      "Epoch 53/100\n",
      " - 1s - loss: 6.0075e-04 - accuracy: 0.0013\n",
      "Epoch 54/100\n",
      " - 2s - loss: 5.0733e-04 - accuracy: 0.0013\n",
      "Epoch 55/100\n",
      " - 1s - loss: 4.5561e-04 - accuracy: 0.0013\n",
      "Epoch 56/100\n",
      " - 2s - loss: 4.8261e-04 - accuracy: 0.0013\n",
      "Epoch 57/100\n",
      " - 2s - loss: 4.8211e-04 - accuracy: 0.0013\n",
      "Epoch 58/100\n",
      " - 2s - loss: 4.8204e-04 - accuracy: 0.0013\n",
      "Epoch 59/100\n",
      " - 2s - loss: 4.7529e-04 - accuracy: 0.0013\n",
      "Epoch 60/100\n",
      " - 2s - loss: 5.1568e-04 - accuracy: 0.0013\n",
      "Epoch 61/100\n",
      " - 2s - loss: 6.7370e-04 - accuracy: 0.0013\n",
      "Epoch 62/100\n",
      " - 2s - loss: 5.0594e-04 - accuracy: 0.0013\n",
      "Epoch 63/100\n",
      " - 2s - loss: 4.9055e-04 - accuracy: 0.0013\n",
      "Epoch 64/100\n",
      " - 2s - loss: 4.6696e-04 - accuracy: 0.0013\n",
      "Epoch 65/100\n",
      " - 2s - loss: 5.2240e-04 - accuracy: 0.0013\n",
      "Epoch 66/100\n",
      " - 2s - loss: 4.5471e-04 - accuracy: 0.0013\n",
      "Epoch 67/100\n",
      " - 2s - loss: 4.7751e-04 - accuracy: 0.0013\n",
      "Epoch 68/100\n",
      " - 2s - loss: 5.0312e-04 - accuracy: 0.0013\n",
      "Epoch 69/100\n",
      " - 2s - loss: 4.8878e-04 - accuracy: 0.0013\n",
      "Epoch 70/100\n",
      " - 2s - loss: 5.6488e-04 - accuracy: 0.0013\n",
      "Epoch 71/100\n",
      " - 2s - loss: 4.7776e-04 - accuracy: 0.0013\n",
      "Epoch 72/100\n",
      " - 2s - loss: 5.0547e-04 - accuracy: 0.0013\n",
      "Epoch 73/100\n",
      " - 2s - loss: 5.8896e-04 - accuracy: 0.0013\n",
      "Epoch 74/100\n",
      " - 2s - loss: 4.8947e-04 - accuracy: 0.0013\n",
      "Epoch 75/100\n",
      " - 2s - loss: 4.8248e-04 - accuracy: 0.0013\n",
      "Epoch 76/100\n",
      " - 2s - loss: 4.5466e-04 - accuracy: 0.0013\n",
      "Epoch 77/100\n",
      " - 2s - loss: 4.7290e-04 - accuracy: 0.0013\n",
      "Epoch 78/100\n",
      " - 2s - loss: 4.9552e-04 - accuracy: 0.0013\n",
      "Epoch 79/100\n",
      " - 2s - loss: 5.2470e-04 - accuracy: 0.0013\n",
      "Epoch 80/100\n",
      " - 2s - loss: 4.7927e-04 - accuracy: 0.0013\n",
      "Epoch 81/100\n",
      " - 2s - loss: 5.0207e-04 - accuracy: 0.0013\n",
      "Epoch 82/100\n",
      " - 2s - loss: 5.0645e-04 - accuracy: 0.0013\n",
      "Epoch 83/100\n",
      " - 2s - loss: 4.4091e-04 - accuracy: 0.0013\n",
      "Epoch 84/100\n",
      " - 2s - loss: 4.6856e-04 - accuracy: 0.0013\n",
      "Epoch 85/100\n",
      " - 2s - loss: 5.4159e-04 - accuracy: 0.0013\n",
      "Epoch 86/100\n",
      " - 2s - loss: 4.6384e-04 - accuracy: 0.0013\n",
      "Epoch 87/100\n",
      " - 2s - loss: 4.5337e-04 - accuracy: 0.0013\n",
      "Epoch 88/100\n",
      " - 2s - loss: 5.0104e-04 - accuracy: 0.0013\n",
      "Epoch 89/100\n",
      " - 2s - loss: 4.5279e-04 - accuracy: 0.0013\n",
      "Epoch 90/100\n",
      " - 2s - loss: 4.7485e-04 - accuracy: 0.0013\n",
      "Epoch 91/100\n",
      " - 2s - loss: 5.5660e-04 - accuracy: 0.0013\n",
      "Epoch 92/100\n",
      " - 2s - loss: 5.4404e-04 - accuracy: 0.0013\n",
      "Epoch 93/100\n",
      " - 2s - loss: 4.8674e-04 - accuracy: 0.0013\n",
      "Epoch 94/100\n",
      " - 2s - loss: 4.8538e-04 - accuracy: 0.0013\n",
      "Epoch 95/100\n",
      " - 2s - loss: 4.6282e-04 - accuracy: 0.0013\n",
      "Epoch 96/100\n",
      " - 2s - loss: 4.5560e-04 - accuracy: 0.0013\n",
      "Epoch 97/100\n",
      " - 2s - loss: 4.9170e-04 - accuracy: 0.0013\n",
      "Epoch 98/100\n",
      " - 2s - loss: 5.4063e-04 - accuracy: 0.0013\n",
      "Epoch 99/100\n",
      " - 2s - loss: 4.7849e-04 - accuracy: 0.0013\n",
      "Epoch 100/100\n",
      " - 2s - loss: 5.2128e-04 - accuracy: 0.0013\n",
      "Wall time: 2min 58s\n"
     ]
    },
    {
     "data": {
      "text/plain": [
       "<keras.callbacks.callbacks.History at 0x213f09c1d88>"
      ]
     },
     "execution_count": 212,
     "metadata": {},
     "output_type": "execute_result"
    }
   ],
   "source": [
    "%%time\n",
    "# Fit the LSTM network\n",
    "import keras\n",
    "#mcc = keras.callbacks.callbacks.ModelCheckpoint(\"mcc\", monitor='loss', verbose=0, save_best_only=True, save_weights_only=False, mode='auto', period=10)\n",
    "\n",
    "#es = keras.callbacks.callbacks.EarlyStopping(monitor='loss', min_delta=0, patience=10, verbose=0, mode='auto', baseline=None, restore_best_weights=True)\n",
    "\n",
    "\n",
    "model.fit(trainX, trainY, epochs=100, batch_size=20, verbose=2)"
   ]
  },
  {
   "cell_type": "code",
   "execution_count": null,
   "metadata": {},
   "outputs": [],
   "source": []
  },
  {
   "cell_type": "code",
   "execution_count": null,
   "metadata": {},
   "outputs": [],
   "source": []
  },
  {
   "cell_type": "code",
   "execution_count": null,
   "metadata": {},
   "outputs": [],
   "source": []
  },
  {
   "cell_type": "markdown",
   "metadata": {},
   "source": [
    "Once the model is fit, we can estimate the performance of the model on the train and test datasets."
   ]
  },
  {
   "cell_type": "code",
   "execution_count": 213,
   "metadata": {},
   "outputs": [],
   "source": [
    "scores = model.evaluate(trainX, trainY, verbose=0)\n",
    "#model.save_weights('IndRNN_weights.h5')\n"
   ]
  },
  {
   "cell_type": "code",
   "execution_count": 214,
   "metadata": {},
   "outputs": [
    {
     "name": "stdout",
     "output_type": "stream",
     "text": [
      "[0.00043916955664960244, 0.0013351135421544313]\n",
      "['loss', 'accuracy']\n"
     ]
    }
   ],
   "source": [
    "from keras.models import load_model\n",
    "\n",
    "print(scores)\n",
    "print(model.metrics_names)"
   ]
  },
  {
   "cell_type": "code",
   "execution_count": 215,
   "metadata": {},
   "outputs": [],
   "source": [
    "# make predictions\n",
    "trainPredict = model.predict(trainX)\n",
    "testPredict = model.predict(testX)"
   ]
  },
  {
   "cell_type": "markdown",
   "metadata": {},
   "source": [
    "***Note that we invert the predictions before calculating error scores \n",
    "to ensure that performance is reported in the same units as the original data (stock prices).***"
   ]
  },
  {
   "cell_type": "code",
   "execution_count": 216,
   "metadata": {},
   "outputs": [],
   "source": [
    "# invert predictions\n",
    "trainPredict = scaler.inverse_transform(trainPredict)\n",
    "trainY = scaler.inverse_transform([trainY])\n",
    "testPredict = scaler.inverse_transform(testPredict)\n",
    "testY = scaler.inverse_transform([testY])"
   ]
  },
  {
   "cell_type": "code",
   "execution_count": 217,
   "metadata": {},
   "outputs": [
    {
     "name": "stdout",
     "output_type": "stream",
     "text": [
      "Train Score: 741.40 MSE\n",
      "Test Score: 239.16 MSE\n"
     ]
    }
   ],
   "source": [
    "# calculate root mean squared error\n",
    "trainScore = mean_squared_error(trainY[0], trainPredict[:,0])\n",
    "print('Train Score: %.2f MSE' % (trainScore))\n",
    "testScore = mean_squared_error(testY[0], testPredict[:,0])\n",
    "print('Test Score: %.2f MSE' % (testScore))"
   ]
  },
  {
   "cell_type": "code",
   "execution_count": 218,
   "metadata": {},
   "outputs": [],
   "source": [
    "## LSTM   - Train Score: 23.70 RMSE Test Score: 58.87 RMSE (LSTM - 4)\n",
    "## IndRNN - Train Score: 24.05 RMSE Test Score: 52.45 RMSE [Cell = 4,4]\n",
    "## IndRNN - Train Score: 23.99 RMSE Test Score: 51.99 RMSE [Cell = 3,3]\n",
    "## IndRnn - Train Score: 23.25 RMSE Test Score: 49.35 RMSE [Cell = 3,3] Look-back=6"
   ]
  },
  {
   "cell_type": "code",
   "execution_count": 219,
   "metadata": {},
   "outputs": [
    {
     "data": {
      "text/plain": [
       "'\\nimport random\\nfrom random import randrange\\nfor i in range(0,len(testPredict)):\\n    random.seed(random.random())\\n\\n    testPredict[i]=testPredict[i]+random.randint(-10,10)\\n    random.seed(a=None, version=2)\\n    random.seed(random.random())\\n'"
      ]
     },
     "execution_count": 219,
     "metadata": {},
     "output_type": "execute_result"
    }
   ],
   "source": [
    "\n",
    "\"\"\"\n",
    "import random\n",
    "from random import randrange\n",
    "for i in range(0,len(testPredict)):\n",
    "    random.seed(random.random())\n",
    "\n",
    "    testPredict[i]=testPredict[i]+random.randint(-10,10)\n",
    "    random.seed(a=None, version=2)\n",
    "    random.seed(random.random())\n",
    "\"\"\""
   ]
  },
  {
   "cell_type": "markdown",
   "metadata": {},
   "source": [
    "Because of how the dataset was prepared, we must shift the predictions so that they align on the x-axis with the original dataset. Once prepared, the data is plotted, showing the original dataset in blue, the predictions for the training dataset in green, and the predictions on the unseen test dataset in black."
   ]
  },
  {
   "cell_type": "code",
   "execution_count": 220,
   "metadata": {},
   "outputs": [
    {
     "data": {
      "image/png": "[encoded data removed]",
      "text/plain": [
       "<Figure size 1440x720 with 1 Axes>"
      ]
     },
     "metadata": {
      "needs_background": "light"
     },
     "output_type": "display_data"
    }
   ],
   "source": [
    "datedate = pandas.read_excel('ETHUSD=X.xlsx', usecols=[0], skipfooter=3)\n",
    "\n",
    "# plot baseline and predictions\n",
    "plt.figure(figsize=(20,10))\n",
    "plt.grid()\n",
    "plt.plot(datedate.tail(345),testPredict, label=' predicted', color='red')\n",
    "plt.plot(datedate.tail(345),testY[0], label=' actual value', color='blue')\n",
    "plt.xlabel('Date', fontsize=30)\n",
    "plt.ylabel('Price in USD', fontsize=30)\n",
    "plt.xticks(fontsize=14)\n",
    "plt.yticks(fontsize=14)\n",
    "plt.legend()\n",
    "\n",
    "plt.show()"
   ]
  },
  {
   "cell_type": "code",
   "execution_count": null,
   "metadata": {},
   "outputs": [],
   "source": []
  },
  {
   "cell_type": "code",
   "execution_count": null,
   "metadata": {},
   "outputs": [],
   "source": []
  },
  {
   "cell_type": "code",
   "execution_count": null,
   "metadata": {},
   "outputs": [],
   "source": []
  },
  {
   "cell_type": "code",
   "execution_count": null,
   "metadata": {},
   "outputs": [],
   "source": []
  }
 ],
 "metadata": {
  "kernelspec": {
   "display_name": "Python 3",
   "language": "python",
   "name": "python3"
  },
  "language_info": {
   "codemirror_mode": {
    "name": "ipython",
    "version": 3
   },
   "file_extension": ".py",
   "mimetype": "text/x-python",
   "name": "python",
   "nbconvert_exporter": "python",
   "pygments_lexer": "ipython3",
   "version": "3.7.4"
  }
 },
 "nbformat": 4,
 "nbformat_minor": 2
}
