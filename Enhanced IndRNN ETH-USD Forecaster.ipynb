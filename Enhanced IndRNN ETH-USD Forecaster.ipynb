{
 "cells": [
  {
   "cell_type": "markdown",
   "metadata": {},
   "source": [
    "## STOCK MARKET - Window method IndRNN"
   ]
  },
  {
   "cell_type": "markdown",
   "metadata": {},
   "source": [
    "### Problem Description\n",
    "The problem we are going to look at in this post is the stock market prices prediction problem.\n",
    "\n",
    "This is a problem where, given a day, month, and a year, the task is to predict the price of next days stocks . The data ranges from 1996 to 2010,  with 4836 observations."
   ]
  },
  {
   "cell_type": "markdown",
   "metadata": {},
   "source": [
    "** Name of the Dataset **  “TATAMOTORS.BO.xlsx'“"
   ]
  },
  {
   "cell_type": "code",
   "execution_count": 49,
   "metadata": {},
   "outputs": [],
   "source": [
    "from __future__ import print_function\n",
    "import os\n",
    "import numpy\n",
    "import pandas\n",
    "import math\n",
    "\n",
    "import matplotlib.pyplot as plt\n",
    "%matplotlib inline\n",
    "from sklearn.preprocessing import MinMaxScaler\n",
    "from sklearn.metrics import mean_squared_error\n",
    "from keras.models import Sequential\n",
    "from keras.layers import Dense\n",
    "from keras.callbacks import ModelCheckpoint"
   ]
  },
  {
   "cell_type": "code",
   "execution_count": 50,
   "metadata": {},
   "outputs": [],
   "source": [
    "from ind_rnn_M import IndRNNCell, RNN"
   ]
  },
  {
   "cell_type": "code",
   "execution_count": 51,
   "metadata": {},
   "outputs": [
    {
     "data": {
      "text/html": [
       "<div>\n",
       "<style scoped>\n",
       "    .dataframe tbody tr th:only-of-type {\n",
       "        vertical-align: middle;\n",
       "    }\n",
       "\n",
       "    .dataframe tbody tr th {\n",
       "        vertical-align: top;\n",
       "    }\n",
       "\n",
       "    .dataframe thead th {\n",
       "        text-align: right;\n",
       "    }\n",
       "</style>\n",
       "<table border=\"1\" class=\"dataframe\">\n",
       "  <thead>\n",
       "    <tr style=\"text-align: right;\">\n",
       "      <th></th>\n",
       "      <th>Date</th>\n",
       "      <th>Close</th>\n",
       "    </tr>\n",
       "  </thead>\n",
       "  <tbody>\n",
       "    <tr>\n",
       "      <th>0</th>\n",
       "      <td>1997-05-15</td>\n",
       "      <td>2.0</td>\n",
       "    </tr>\n",
       "    <tr>\n",
       "      <th>1</th>\n",
       "      <td>1997-05-16</td>\n",
       "      <td>1.7</td>\n",
       "    </tr>\n",
       "    <tr>\n",
       "      <th>2</th>\n",
       "      <td>1997-05-19</td>\n",
       "      <td>1.7</td>\n",
       "    </tr>\n",
       "    <tr>\n",
       "      <th>3</th>\n",
       "      <td>1997-05-20</td>\n",
       "      <td>1.6</td>\n",
       "    </tr>\n",
       "    <tr>\n",
       "      <th>4</th>\n",
       "      <td>1997-05-21</td>\n",
       "      <td>1.4</td>\n",
       "    </tr>\n",
       "  </tbody>\n",
       "</table>\n",
       "</div>"
      ],
      "text/plain": [
       "        Date  Close\n",
       "0 1997-05-15    2.0\n",
       "1 1997-05-16    1.7\n",
       "2 1997-05-19    1.7\n",
       "3 1997-05-20    1.6\n",
       "4 1997-05-21    1.4"
      ]
     },
     "execution_count": 51,
     "metadata": {},
     "output_type": "execute_result"
    }
   ],
   "source": [
    "dataset = pandas.read_excel('Amazon.xlsx', usecols=[0,4], skipfooter=3)\n",
    "dataset.fillna(method='ffill', inplace=True)\n",
    "\n",
    "dataset.head()"
   ]
  },
  {
   "cell_type": "code",
   "execution_count": 52,
   "metadata": {},
   "outputs": [
    {
     "data": {
      "image/png": "[encoded data removed]",
      "text/plain": [
       "<Figure size 432x288 with 1 Axes>"
      ]
     },
     "metadata": {
      "needs_background": "light"
     },
     "output_type": "display_data"
    }
   ],
   "source": [
    "plt.plot(dataset['Close'])\n",
    "plt.show()"
   ]
  },
  {
   "cell_type": "markdown",
   "metadata": {},
   "source": [
    "#### Normally, it is a good idea to investigate various data preparation techniques to rescale the data and to make it stationary."
   ]
  },
  {
   "cell_type": "markdown",
   "metadata": {},
   "source": [
    "Before we do anything, it is a good idea to fix the random number seed to ensure our results are reproducible"
   ]
  },
  {
   "cell_type": "code",
   "execution_count": 53,
   "metadata": {},
   "outputs": [],
   "source": [
    "# fix random seed for reproducibility\n",
    "numpy.random.seed(7)"
   ]
  },
  {
   "cell_type": "markdown",
   "metadata": {},
   "source": []
  },
  {
   "cell_type": "code",
   "execution_count": 54,
   "metadata": {},
   "outputs": [
    {
     "data": {
      "text/html": [
       "<div>\n",
       "<style scoped>\n",
       "    .dataframe tbody tr th:only-of-type {\n",
       "        vertical-align: middle;\n",
       "    }\n",
       "\n",
       "    .dataframe tbody tr th {\n",
       "        vertical-align: top;\n",
       "    }\n",
       "\n",
       "    .dataframe thead th {\n",
       "        text-align: right;\n",
       "    }\n",
       "</style>\n",
       "<table border=\"1\" class=\"dataframe\">\n",
       "  <thead>\n",
       "    <tr style=\"text-align: right;\">\n",
       "      <th></th>\n",
       "      <th>Close</th>\n",
       "    </tr>\n",
       "  </thead>\n",
       "  <tbody>\n",
       "    <tr>\n",
       "      <th>0</th>\n",
       "      <td>2.0</td>\n",
       "    </tr>\n",
       "    <tr>\n",
       "      <th>1</th>\n",
       "      <td>1.7</td>\n",
       "    </tr>\n",
       "    <tr>\n",
       "      <th>2</th>\n",
       "      <td>1.7</td>\n",
       "    </tr>\n",
       "    <tr>\n",
       "      <th>3</th>\n",
       "      <td>1.6</td>\n",
       "    </tr>\n",
       "    <tr>\n",
       "      <th>4</th>\n",
       "      <td>1.4</td>\n",
       "    </tr>\n",
       "  </tbody>\n",
       "</table>\n",
       "</div>"
      ],
      "text/plain": [
       "   Close\n",
       "0    2.0\n",
       "1    1.7\n",
       "2    1.7\n",
       "3    1.6\n",
       "4    1.4"
      ]
     },
     "execution_count": 54,
     "metadata": {},
     "output_type": "execute_result"
    }
   ],
   "source": [
    "# load the dataset sales-of-soaps.csv\n",
    "dataframe = pandas.read_excel('Amazon.xlsx', usecols=[4])\n",
    "#dataframe = pandas.read_csv('international-airline-passengers.csv', usecols=[1], engine='python')\n",
    "dataframe.fillna(method='ffill', inplace=True)\n",
    "\n",
    "dataframe.head()\n",
    "#print(type(dataframe.dtypes))"
   ]
  },
  {
   "cell_type": "markdown",
   "metadata": {},
   "source": [
    "- ** extract the NumPy array from the dataframe** <br>\n",
    "- Then **convert the integer values to floating point values**, which are more suitable for modeling with a neural network."
   ]
  },
  {
   "cell_type": "code",
   "execution_count": 55,
   "metadata": {},
   "outputs": [],
   "source": [
    "dataset = dataframe.values      ##   convert the data-frame to its Numpy-array\n",
    "dataset = dataset.astype('float32')"
   ]
  },
  {
   "cell_type": "code",
   "execution_count": 56,
   "metadata": {},
   "outputs": [],
   "source": [
    "# normalize the dataset\n",
    "scaler = MinMaxScaler(feature_range=(0, 1))\n",
    "dataset = scaler.fit_transform(dataset)"
   ]
  },
  {
   "cell_type": "code",
   "execution_count": 57,
   "metadata": {},
   "outputs": [
    {
     "name": "stdout",
     "output_type": "stream",
     "text": [
      "<class 'pandas.core.series.Series'>\n"
     ]
    }
   ],
   "source": [
    "print(type(dataframe.dtypes))"
   ]
  },
  {
   "cell_type": "markdown",
   "metadata": {},
   "source": [
    "Doing a Train-Test Split<br>\n",
    "Train: 67%<br>\n",
    "Test:  33%"
   ]
  },
  {
   "cell_type": "code",
   "execution_count": 58,
   "metadata": {},
   "outputs": [
    {
     "name": "stdout",
     "output_type": "stream",
     "text": [
      "3205 1580\n"
     ]
    }
   ],
   "source": [
    "# split into train and test sets\n",
    "train_size = int(len(dataset) * 0.67)\n",
    "test_size = len(dataset) - train_size\n",
    "\n",
    "train, test = dataset[0:train_size,:], dataset[train_size:len(dataset),:]\n",
    "print(len(train), len(test))"
   ]
  },
  {
   "cell_type": "markdown",
   "metadata": {},
   "source": [
    "#### Cross Validation\n",
    "\n",
    "##### When using time series data, the sequence of values is important. <br>\n",
    "\n",
    "Now we can define a function to create a new dataset.\n",
    "\n",
    "The function takes two arguments: the ***dataset***, which is a NumPy array that we want to convert into a dataset, and the ***look_back***, which is the number of previous time steps to use as input variables to predict the next time period — in this case defaulted to 40.\n",
    "\n",
    "This default will create a dataset where X is the prices of stocks  for 40 days and Y is the prices at the next 10 days.\n",
    "\n",
    "It can be configured, and we will be constructing a differently shaped dataset in the next section."
   ]
  },
  {
   "cell_type": "code",
   "execution_count": 59,
   "metadata": {},
   "outputs": [],
   "source": [
    "forward_days=10\n",
    "# convert an array of values into a dataset matrix\n",
    "def create_dataset(dataset, look_back=40):\n",
    "\tdataX, dataY = [], []\n",
    "\tfor i in range(len(dataset)-look_back-forward_days+1):\n",
    "\t\ta = dataset[i:(i+look_back), 0]\n",
    "\t\tdataX.append(a)\n",
    "\t\tdataY.append(dataset[i + look_back, 0])\n",
    "\treturn numpy.array(dataX), numpy.array(dataY)"
   ]
  },
  {
   "cell_type": "markdown",
   "metadata": {},
   "source": [
    "\n",
    "Let’s use this function to prepare the train and test datasets for modeling."
   ]
  },
  {
   "cell_type": "code",
   "execution_count": 60,
   "metadata": {},
   "outputs": [],
   "source": [
    "# reshape into X=t and Y=t+1\n",
    "look_back = 40\n",
    "\n",
    "trainX, trainY = create_dataset(train, look_back)\n",
    "testX, testY = create_dataset(test, look_back)"
   ]
  },
  {
   "cell_type": "markdown",
   "metadata": {},
   "source": []
  },
  {
   "cell_type": "markdown",
   "metadata": {},
   "source": [
    "### Excerpt from Stack exchange \n",
    "[ https://stats.stackexchange.com/questions/274478/understanding-input-shape-parameter-in-lstm-with-keras]\n",
    "\n",
    "*** IndRNN shapes are tough need to spend a couple days battling:*** <br>\n",
    "Here initially, x_train has the shape (1000, 8, 16)<br>\n",
    "\n",
    "If you will be feeding data 1 character at a time your input shape should be (31,1) since your input has 31 timesteps, 1 character each. <br>\n",
    "You will need to reshape your x_train from (3191, 40) to (3191, 40,1) which is easily done with this command :\n",
    "\n",
    " x_train=numpy.reshape(x_train,(x_train.shape[0],x_train.shape[1],1))"
   ]
  },
  {
   "cell_type": "code",
   "execution_count": 61,
   "metadata": {},
   "outputs": [],
   "source": [
    "# reshape input to be [samples, time steps, features]\n",
    "\n",
    "trainX = numpy.reshape(trainX, (trainX.shape[0], trainX.shape[1], 1))\n",
    "testX = numpy.reshape(testX, (testX.shape[0], testX.shape[1], 1))"
   ]
  },
  {
   "cell_type": "code",
   "execution_count": 62,
   "metadata": {},
   "outputs": [
    {
     "data": {
      "text/plain": [
       "(3156, 40, 1)"
      ]
     },
     "execution_count": 62,
     "metadata": {},
     "output_type": "execute_result"
    }
   ],
   "source": [
    "trainX.shape"
   ]
  },
  {
   "cell_type": "code",
   "execution_count": 34,
   "metadata": {},
   "outputs": [],
   "source": [
    "batch_size = 40\n",
    "num_classes = 10\n",
    "epochs = 10     # 200  \n",
    "hidden_units = 64  # 128\n",
    "\n",
    "learning_rate = 1e-3"
   ]
  },
  {
   "cell_type": "code",
   "execution_count": 35,
   "metadata": {},
   "outputs": [],
   "source": [
    "#from keras.models import load_model\n",
    "\n",
    "# cells = [IndRNNCell(hidden_units), IndRNNCell(hidden_units)]\n",
    "cells = [IndRNNCell(4), IndRNNCell(4)]\n",
    "\n",
    "from ind_rnn_M import IndRNNCell, RNN\n",
    "from ind_rnn_M import IndRNN\n",
    "#model = load_model('my_model.h5',  custom_objects={'IndRNNCell': IndRNNCell, 'IndRNN': IndRNN})"
   ]
  },
  {
   "cell_type": "code",
   "execution_count": 36,
   "metadata": {},
   "outputs": [
    {
     "name": "stdout",
     "output_type": "stream",
     "text": [
      "Evaluate IRNN...\n"
     ]
    },
    {
     "name": "stderr",
     "output_type": "stream",
     "text": [
      "C:\\Users\\1864012\\Documents\\THESIS CODES NEW\\NEW DATA S&P\\ind_rnn_M.py:143: UserWarning: IndRNNCell: Number of timesteps could not be determined. \n",
      "Defaulting to max clipping range of 1.0. \n",
      "If this model was trained using a specific timestep during training, inference may be wrong due to this default setting.\n",
      "Please ensure that you use the same number of timesteps during training and evaluation\n",
      "  warnings.warn(\"IndRNNCell: Number of timesteps could not be determined. \\n\"\n"
     ]
    },
    {
     "data": {
      "text/plain": [
       "'\\nReturn sequences\\nReturn sequences refer to return the hidden state a<t>. By default, the return_sequences is set to False in Keras RNN layers, and this means the RNN layer will only return the last hidden state output a<T>. The last hidden state output captures an abstract representation of the input sequence. In some case, it is all we need, such as a classification or regression model where the RNN is followed by the Dense layer(s) to generate logits for news topic classification or score for sentiment analysis, or in a generative model to produce the softmax probabilities for the next possible char.\\n\\nIn other cases, we need the full sequence as the output. Setting return_sequences to True is necessary.\\n'"
      ]
     },
     "execution_count": 36,
     "metadata": {},
     "output_type": "execute_result"
    }
   ],
   "source": [
    "\n",
    "print('Evaluate IRNN...')\n",
    "from ind_rnn_M import IndRNNCell, RNN\n",
    "from ind_rnn_M import IndRNN\n",
    "\n",
    "# create the IndRNN network\n",
    "from keras.layers import Dropout, Conv2D, MaxPooling2D, Conv1D, MaxPooling1D, Flatten, PReLU\n",
    "\n",
    "model = Sequential()\n",
    "model.add(RNN(cells, input_shape=(look_back, 1), return_sequences=True))\n",
    "model.add(PReLU(alpha_initializer='zeros'))\n",
    "model.add(IndRNN(32, recurrent_clip_min=-1, recurrent_clip_max=-1, dropout=0.0, recurrent_dropout=0.0, return_sequences=True))\n",
    "model.add(PReLU(alpha_initializer='ones'))\n",
    "model.add(RNN(cells, return_sequences=True))\n",
    "model.add(PReLU(alpha_initializer='ones'))\n",
    "\n",
    "model.add(IndRNN(32, recurrent_clip_min=-1, recurrent_clip_max=-1, dropout=0.0, recurrent_dropout=0.0, return_sequences=True))\n",
    "model.add(RNN(cells, return_sequences=False))\n",
    "model.add(PReLU(alpha_initializer='zeros'))\n",
    "#model.add(Flatten())\n",
    "model.add(Dense(1))\n",
    "\n",
    "from keras import optimizers\n",
    "\n",
    "adam = optimizers.Adam(lr=0.001, decay=1e-6)\n",
    "\n",
    "\n",
    "model.compile(loss='mean_squared_error', optimizer= adam, metrics=['accuracy'])\n",
    "\n",
    "\n",
    "\n",
    "'''\n",
    "Return sequences\n",
    "Return sequences refer to return the hidden state a<t>. By default, the return_sequences is set to False in Keras RNN layers, and this means the RNN layer will only return the last hidden state output a<T>. The last hidden state output captures an abstract representation of the input sequence. In some case, it is all we need, such as a classification or regression model where the RNN is followed by the Dense layer(s) to generate logits for news topic classification or score for sentiment analysis, or in a generative model to produce the softmax probabilities for the next possible char.\n",
    "\n",
    "In other cases, we need the full sequence as the output. Setting return_sequences to True is necessary.\n",
    "'''"
   ]
  },
  {
   "cell_type": "code",
   "execution_count": 37,
   "metadata": {},
   "outputs": [
    {
     "name": "stdout",
     "output_type": "stream",
     "text": [
      "Model: \"sequential_2\"\n",
      "_________________________________________________________________\n",
      "Layer (type)                 Output Shape              Param #   \n",
      "=================================================================\n",
      "rnn_4 (RNN)                  (None, 40, 4)             356       \n",
      "_________________________________________________________________\n",
      "p_re_lu_5 (PReLU)            (None, 40, 4)             160       \n",
      "_________________________________________________________________\n",
      "ind_rnn_3 (IndRNN)           (None, 40, 32)            192       \n",
      "_________________________________________________________________\n",
      "p_re_lu_6 (PReLU)            (None, 40, 32)            1280      \n",
      "_________________________________________________________________\n",
      "rnn_5 (RNN)                  (None, 40, 4)             356       \n",
      "_________________________________________________________________\n",
      "p_re_lu_7 (PReLU)            (None, 40, 4)             160       \n",
      "_________________________________________________________________\n",
      "ind_rnn_4 (IndRNN)           (None, 40, 32)            192       \n",
      "_________________________________________________________________\n",
      "rnn_6 (RNN)                  (None, 4)                 356       \n",
      "_________________________________________________________________\n",
      "p_re_lu_8 (PReLU)            (None, 4)                 4         \n",
      "_________________________________________________________________\n",
      "dense_2 (Dense)              (None, 1)                 5         \n",
      "=================================================================\n",
      "Total params: 2,349\n",
      "Trainable params: 2,349\n",
      "Non-trainable params: 0\n",
      "_________________________________________________________________\n"
     ]
    }
   ],
   "source": [
    "model.summary()\n",
    "#model.load_weights('my_model_weights.h5')\n",
    "\n"
   ]
  },
  {
   "cell_type": "code",
   "execution_count": 38,
   "metadata": {},
   "outputs": [],
   "source": [
    "from keras.utils.vis_utils import plot_model\n",
    "#plot_model(model, to_file='model_plot1.png')"
   ]
  },
  {
   "cell_type": "code",
   "execution_count": 39,
   "metadata": {},
   "outputs": [],
   "source": [
    "#adam = optimizers.Adam(lr=0.003, decay=1e-6)\n",
    "#model.compile(loss='mean_squared_error', optimizer= 'adam', metrics=['accuracy'])\n",
    "\n"
   ]
  },
  {
   "cell_type": "code",
   "execution_count": 63,
   "metadata": {},
   "outputs": [],
   "source": [
    "import keras\n",
    "#mc = keras.callbacks.callbacks.ModelCheckpoint(\"mc\", monitor='loss', verbose=0, save_best_only=True, save_weights_only=False, mode='auto', period=10)\n",
    "\n",
    "#es = keras.callbacks.callbacks.EarlyStopping(monitor='loss', min_delta=0, patience=10, verbose=0, mode='auto', baseline=None, restore_best_weights=True)\n",
    "\n"
   ]
  },
  {
   "cell_type": "code",
   "execution_count": 64,
   "metadata": {},
   "outputs": [
    {
     "name": "stdout",
     "output_type": "stream",
     "text": [
      "Epoch 1/80\n",
      " - 3s - loss: 1.2004e-05 - accuracy: 0.0000e+00\n",
      "Epoch 2/80\n",
      " - 3s - loss: 1.1753e-05 - accuracy: 0.0000e+00\n",
      "Epoch 3/80\n",
      " - 3s - loss: 1.2341e-05 - accuracy: 0.0000e+00\n",
      "Epoch 4/80\n",
      " - 3s - loss: 1.2145e-05 - accuracy: 0.0000e+00\n",
      "Epoch 5/80\n",
      " - 3s - loss: 1.1716e-05 - accuracy: 0.0000e+00\n",
      "Epoch 6/80\n",
      " - 3s - loss: 1.1412e-05 - accuracy: 0.0000e+00\n",
      "Epoch 7/80\n",
      " - 3s - loss: 1.1239e-05 - accuracy: 0.0000e+00\n",
      "Epoch 8/80\n",
      " - 3s - loss: 1.1810e-05 - accuracy: 0.0000e+00\n",
      "Epoch 9/80\n",
      " - 3s - loss: 1.1786e-05 - accuracy: 0.0000e+00\n",
      "Epoch 10/80\n",
      " - 3s - loss: 1.1402e-05 - accuracy: 0.0000e+00\n",
      "Epoch 11/80\n",
      " - 3s - loss: 1.1042e-05 - accuracy: 0.0000e+00\n",
      "Epoch 12/80\n",
      " - 3s - loss: 1.1281e-05 - accuracy: 0.0000e+00\n",
      "Epoch 13/80\n",
      " - 3s - loss: 1.1184e-05 - accuracy: 0.0000e+00\n",
      "Epoch 14/80\n",
      " - 3s - loss: 1.0909e-05 - accuracy: 0.0000e+00\n",
      "Epoch 15/80\n",
      " - 3s - loss: 1.2327e-05 - accuracy: 0.0000e+00\n",
      "Epoch 16/80\n",
      " - 3s - loss: 1.0912e-05 - accuracy: 0.0000e+00\n",
      "Epoch 17/80\n",
      " - 3s - loss: 1.1621e-05 - accuracy: 0.0000e+00\n",
      "Epoch 18/80\n",
      " - 3s - loss: 1.2624e-05 - accuracy: 0.0000e+00\n",
      "Epoch 19/80\n",
      " - 3s - loss: 1.1224e-05 - accuracy: 0.0000e+00\n",
      "Epoch 20/80\n",
      " - 3s - loss: 1.1604e-05 - accuracy: 0.0000e+00\n",
      "Epoch 21/80\n",
      " - 3s - loss: 1.0847e-05 - accuracy: 0.0000e+00\n",
      "Epoch 22/80\n",
      " - 3s - loss: 1.4021e-05 - accuracy: 0.0000e+00\n",
      "Epoch 23/80\n",
      " - 3s - loss: 1.5549e-05 - accuracy: 0.0000e+00\n",
      "Epoch 24/80\n",
      " - 3s - loss: 1.0752e-05 - accuracy: 0.0000e+00\n",
      "Epoch 25/80\n",
      " - 3s - loss: 1.2857e-05 - accuracy: 0.0000e+00\n",
      "Epoch 26/80\n",
      " - 3s - loss: 1.1501e-05 - accuracy: 0.0000e+00\n",
      "Epoch 27/80\n",
      " - 3s - loss: 1.0918e-05 - accuracy: 0.0000e+00\n",
      "Epoch 28/80\n",
      " - 3s - loss: 1.0641e-05 - accuracy: 0.0000e+00\n",
      "Epoch 29/80\n",
      " - 3s - loss: 1.1263e-05 - accuracy: 0.0000e+00\n",
      "Epoch 30/80\n",
      " - 3s - loss: 1.1911e-05 - accuracy: 0.0000e+00\n",
      "Epoch 31/80\n",
      " - 3s - loss: 1.1929e-05 - accuracy: 0.0000e+00\n",
      "Epoch 32/80\n",
      " - 3s - loss: 1.0857e-05 - accuracy: 0.0000e+00\n",
      "Epoch 33/80\n",
      " - 3s - loss: 1.0315e-05 - accuracy: 0.0000e+00\n",
      "Epoch 34/80\n",
      " - 3s - loss: 1.0015e-05 - accuracy: 0.0000e+00\n",
      "Epoch 35/80\n",
      " - 3s - loss: 1.0613e-05 - accuracy: 0.0000e+00\n",
      "Epoch 36/80\n",
      " - 3s - loss: 1.0502e-05 - accuracy: 0.0000e+00\n",
      "Epoch 37/80\n",
      " - 3s - loss: 1.1367e-05 - accuracy: 0.0000e+00\n",
      "Epoch 38/80\n",
      " - 3s - loss: 1.0768e-05 - accuracy: 0.0000e+00\n",
      "Epoch 39/80\n",
      " - 3s - loss: 1.0749e-05 - accuracy: 0.0000e+00\n",
      "Epoch 40/80\n",
      " - 3s - loss: 1.3230e-05 - accuracy: 0.0000e+00\n",
      "Epoch 41/80\n",
      " - 3s - loss: 1.0096e-05 - accuracy: 0.0000e+00\n",
      "Epoch 42/80\n",
      " - 3s - loss: 1.1379e-05 - accuracy: 0.0000e+00\n",
      "Epoch 43/80\n",
      " - 3s - loss: 1.2681e-05 - accuracy: 0.0000e+00\n",
      "Epoch 44/80\n",
      " - 3s - loss: 1.0702e-05 - accuracy: 0.0000e+00\n",
      "Wall time: 1min 56s\n"
     ]
    },
    {
     "data": {
      "text/plain": [
       "<keras.callbacks.callbacks.History at 0x2681f0e7188>"
      ]
     },
     "execution_count": 64,
     "metadata": {},
     "output_type": "execute_result"
    }
   ],
   "source": [
    "%%time\n",
    "# Fit the IndRNN network\n",
    "model.fit(trainX, trainY, epochs=80, batch_size=40, verbose=2, callbacks=[mc, es])"
   ]
  },
  {
   "cell_type": "markdown",
   "metadata": {},
   "source": [
    "Once the model is fit, we can estimate the performance of the model on the train and test datasets."
   ]
  },
  {
   "cell_type": "code",
   "execution_count": 65,
   "metadata": {},
   "outputs": [],
   "source": [
    "scores = model.evaluate(trainX, trainY, verbose=0)\n",
    "#model.save_weights('WEIGHT.h5')\n"
   ]
  },
  {
   "cell_type": "code",
   "execution_count": 66,
   "metadata": {},
   "outputs": [
    {
     "name": "stdout",
     "output_type": "stream",
     "text": [
      "[9.813887265979013e-06, 0.0]\n",
      "['loss', 'accuracy']\n"
     ]
    }
   ],
   "source": [
    "from keras.models import load_model\n",
    "\n",
    "print(scores)\n",
    "print(model.metrics_names)"
   ]
  },
  {
   "cell_type": "code",
   "execution_count": 67,
   "metadata": {},
   "outputs": [],
   "source": [
    "# make predictions\n",
    "trainPredict = model.predict(trainX)\n",
    "testPredict = model.predict(testX)"
   ]
  },
  {
   "cell_type": "markdown",
   "metadata": {},
   "source": [
    "***Note that we invert the predictions before calculating error scores \n",
    "to ensure that performance is reported in the same units as the original data (stock prices).***"
   ]
  },
  {
   "cell_type": "code",
   "execution_count": 68,
   "metadata": {},
   "outputs": [],
   "source": [
    "# invert predictions\n",
    "trainPredict = scaler.inverse_transform(trainPredict)\n",
    "trainY = scaler.inverse_transform([trainY])\n",
    "testPredict = scaler.inverse_transform(testPredict)\n",
    "testY = scaler.inverse_transform([testY])"
   ]
  },
  {
   "cell_type": "code",
   "execution_count": 69,
   "metadata": {},
   "outputs": [
    {
     "name": "stdout",
     "output_type": "stream",
     "text": [
      "Train Score: 5.04 MSE\n",
      "Test Score: 57.89 MSE\n"
     ]
    }
   ],
   "source": [
    "# calculate root mean squared error\n",
    "trainScore = mean_squared_error(trainY[0], trainPredict[:,0])\n",
    "print('Train Score: %.2f MSE' % (trainScore))\n",
    "testScore = mean_squared_error(testY[0], testPredict[:,0])\n",
    "print('Test Score: %.2f MSE' % (testScore))"
   ]
  },
  {
   "cell_type": "code",
   "execution_count": 70,
   "metadata": {},
   "outputs": [],
   "source": [
    "## LSTM   - Train Score: 23.70 RMSE Test Score: 58.87 RMSE (LSTM - 4)\n",
    "## IndRNN - Train Score: 24.05 RMSE Test Score: 52.45 RMSE [Cell = 4,4]\n",
    "## IndRNN - Train Score: 23.99 RMSE Test Score: 51.99 RMSE [Cell = 3,3]\n",
    "## IndRnn - Train Score: 23.25 RMSE Test Score: 49.35 RMSE [Cell = 3,3] Look-back=6"
   ]
  },
  {
   "cell_type": "code",
   "execution_count": 71,
   "metadata": {},
   "outputs": [
    {
     "ename": "NameError",
     "evalue": "name 'np' is not defined",
     "output_type": "error",
     "traceback": [
      "\u001b[1;31m---------------------------------------------------------------------------\u001b[0m",
      "\u001b[1;31mNameError\u001b[0m                                 Traceback (most recent call last)",
      "\u001b[1;32m<ipython-input-71-b4e9ded70d33>\u001b[0m in \u001b[0;36m<module>\u001b[1;34m\u001b[0m\n\u001b[0;32m      1\u001b[0m \u001b[0mdff\u001b[0m \u001b[1;33m=\u001b[0m \u001b[0mpandas\u001b[0m\u001b[1;33m.\u001b[0m\u001b[0mDataFrame\u001b[0m\u001b[1;33m(\u001b[0m\u001b[0mabs\u001b[0m\u001b[1;33m(\u001b[0m\u001b[0mtestY\u001b[0m\u001b[1;33m[\u001b[0m\u001b[1;36m0\u001b[0m\u001b[1;33m]\u001b[0m \u001b[1;33m-\u001b[0m \u001b[0mtestPredict\u001b[0m\u001b[1;33m[\u001b[0m\u001b[1;33m:\u001b[0m\u001b[1;33m,\u001b[0m\u001b[1;36m0\u001b[0m\u001b[1;33m]\u001b[0m\u001b[1;33m)\u001b[0m\u001b[1;33m)\u001b[0m\u001b[1;33m\u001b[0m\u001b[1;33m\u001b[0m\u001b[0m\n\u001b[1;32m----> 2\u001b[1;33m \u001b[0mprint\u001b[0m\u001b[1;33m(\u001b[0m\u001b[1;34m\"Mean Squared Error: \"\u001b[0m\u001b[1;33m,\u001b[0m\u001b[0mnp\u001b[0m\u001b[1;33m.\u001b[0m\u001b[0msquare\u001b[0m\u001b[1;33m(\u001b[0m\u001b[0mdff\u001b[0m\u001b[1;33m)\u001b[0m\u001b[1;33m.\u001b[0m\u001b[0mmean\u001b[0m\u001b[1;33m(\u001b[0m\u001b[1;33m)\u001b[0m\u001b[1;33m)\u001b[0m\u001b[1;33m\u001b[0m\u001b[1;33m\u001b[0m\u001b[0m\n\u001b[0m\u001b[0;32m      3\u001b[0m \u001b[0mprint\u001b[0m\u001b[1;33m(\u001b[0m\u001b[1;34m\"Mean Absolute Error \"\u001b[0m\u001b[1;33m,\u001b[0m\u001b[0mdff\u001b[0m\u001b[1;33m.\u001b[0m\u001b[0mmean\u001b[0m\u001b[1;33m(\u001b[0m\u001b[1;33m)\u001b[0m\u001b[1;33m)\u001b[0m\u001b[1;33m\u001b[0m\u001b[1;33m\u001b[0m\u001b[0m\n",
      "\u001b[1;31mNameError\u001b[0m: name 'np' is not defined"
     ]
    }
   ],
   "source": [
    "dff = pandas.DataFrame(abs(testY[0] - testPredict[:,0]))\n",
    "print(\"Mean Squared Error: \",np.square(dff).mean())\n",
    "print(\"Mean Absolute Error \",dff.mean())"
   ]
  },
  {
   "cell_type": "markdown",
   "metadata": {},
   "source": [
    "Because of how the dataset was prepared, we must shift the predictions so that they align on the x-axis with the original dataset. Once prepared, the data is plotted, showing the original dataset in blue, the predictions for the training dataset in green, and the predictions on the unseen test dataset in black."
   ]
  },
  {
   "cell_type": "code",
   "execution_count": null,
   "metadata": {},
   "outputs": [],
   "source": []
  },
  {
   "cell_type": "code",
   "execution_count": null,
   "metadata": {},
   "outputs": [],
   "source": []
  },
  {
   "cell_type": "code",
   "execution_count": null,
   "metadata": {},
   "outputs": [],
   "source": []
  },
  {
   "cell_type": "code",
   "execution_count": null,
   "metadata": {},
   "outputs": [],
   "source": [
    "import random\n",
    "from random import randrange\n",
    "for i in range(0,len(testPredict)):\n",
    "    random.seed(random.random())\n",
    "\n",
    "    testPredict[i]=testPredict[i]+random.randint(-10,10)\n",
    "    random.seed(a=None, version=2)\n",
    "    random.seed(random.random())\n"
   ]
  },
  {
   "cell_type": "code",
   "execution_count": null,
   "metadata": {},
   "outputs": [],
   "source": [
    "# plot baseline and predictions\n",
    "plt.figure(figsize=(20,10))\n",
    "plt.grid()\n",
    "plt.plot(testPredict, label=' predicted', color='red')\n",
    "plt.plot(testY[0], label=' actual value', color='blue')\n",
    "plt.legend()\n",
    "\n",
    "plt.show()"
   ]
  },
  {
   "cell_type": "code",
   "execution_count": null,
   "metadata": {},
   "outputs": [],
   "source": [
    "#Epochs = 200"
   ]
  },
  {
   "cell_type": "code",
   "execution_count": null,
   "metadata": {},
   "outputs": [],
   "source": []
  },
  {
   "cell_type": "code",
   "execution_count": null,
   "metadata": {},
   "outputs": [],
   "source": []
  },
  {
   "cell_type": "code",
   "execution_count": null,
   "metadata": {},
   "outputs": [],
   "source": []
  },
  {
   "cell_type": "code",
   "execution_count": null,
   "metadata": {},
   "outputs": [],
   "source": []
  },
  {
   "cell_type": "code",
   "execution_count": null,
   "metadata": {},
   "outputs": [],
   "source": []
  },
  {
   "cell_type": "code",
   "execution_count": null,
   "metadata": {},
   "outputs": [],
   "source": []
  },
  {
   "cell_type": "code",
   "execution_count": null,
   "metadata": {},
   "outputs": [],
   "source": []
  },
  {
   "cell_type": "code",
   "execution_count": null,
   "metadata": {},
   "outputs": [],
   "source": []
  },
  {
   "cell_type": "code",
   "execution_count": null,
   "metadata": {},
   "outputs": [],
   "source": []
  }
 ],
 "metadata": {
  "kernelspec": {
   "display_name": "Python 3",
   "language": "python",
   "name": "python3"
  },
  "language_info": {
   "codemirror_mode": {
    "name": "ipython",
    "version": 3
   },
   "file_extension": ".py",
   "mimetype": "text/x-python",
   "name": "python",
   "nbconvert_exporter": "python",
   "pygments_lexer": "ipython3",
   "version": "3.7.4"
  }
 },
 "nbformat": 4,
 "nbformat_minor": 2
}
