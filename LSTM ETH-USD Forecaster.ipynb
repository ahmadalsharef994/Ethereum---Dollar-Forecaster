{
 "cells": [
  {
   "cell_type": "markdown",
   "metadata": {},
   "source": [
    "## STOCK MARKET - Window method -LSTM\n"
   ]
  },
  {
   "cell_type": "markdown",
   "metadata": {},
   "source": [
    "### Problem Description\n",
    "The problem we are going to look at in this post is the stock market prices prediction problem.\n",
    "\n",
    "This is a problem where, given a day, month, and a year, the task is to predict the price of next days stocks . The data ranges from 1996 to 2010,  with 4800 observations."
   ]
  },
  {
   "cell_type": "markdown",
   "metadata": {},
   "source": [
    "** Name of the Dataset **  “TATAMOTORS.BO.xlsx'“"
   ]
  },
  {
   "cell_type": "markdown",
   "metadata": {},
   "source": []
  },
  {
   "cell_type": "code",
   "execution_count": 140,
   "metadata": {},
   "outputs": [],
   "source": [
    "import numpy\n",
    "import pandas\n",
    "import math\n",
    "\n",
    "import matplotlib.pyplot as plt\n",
    "%matplotlib inline\n",
    "from sklearn.preprocessing import MinMaxScaler\n",
    "from sklearn.metrics import mean_squared_error\n",
    "from keras.models import Sequential\n",
    "from keras.layers import Dense\n",
    "from keras.layers import LSTM\n",
    "\n",
    "import os\n",
    "\n",
    "\n",
    "from keras.callbacks import ModelCheckpoint"
   ]
  },
  {
   "cell_type": "markdown",
   "metadata": {},
   "source": []
  },
  {
   "cell_type": "code",
   "execution_count": 141,
   "metadata": {},
   "outputs": [
    {
     "data": {
      "text/html": [
       "<div>\n",
       "<style scoped>\n",
       "    .dataframe tbody tr th:only-of-type {\n",
       "        vertical-align: middle;\n",
       "    }\n",
       "\n",
       "    .dataframe tbody tr th {\n",
       "        vertical-align: top;\n",
       "    }\n",
       "\n",
       "    .dataframe thead th {\n",
       "        text-align: right;\n",
       "    }\n",
       "</style>\n",
       "<table border=\"1\" class=\"dataframe\">\n",
       "  <thead>\n",
       "    <tr style=\"text-align: right;\">\n",
       "      <th></th>\n",
       "      <th>Date</th>\n",
       "      <th>Close</th>\n",
       "    </tr>\n",
       "  </thead>\n",
       "  <tbody>\n",
       "    <tr>\n",
       "      <th>0</th>\n",
       "      <td>2015-08-07</td>\n",
       "      <td>2.772120</td>\n",
       "    </tr>\n",
       "    <tr>\n",
       "      <th>1</th>\n",
       "      <td>2015-08-10</td>\n",
       "      <td>0.708448</td>\n",
       "    </tr>\n",
       "    <tr>\n",
       "      <th>2</th>\n",
       "      <td>2015-08-11</td>\n",
       "      <td>1.067860</td>\n",
       "    </tr>\n",
       "    <tr>\n",
       "      <th>3</th>\n",
       "      <td>2015-08-12</td>\n",
       "      <td>1.217440</td>\n",
       "    </tr>\n",
       "    <tr>\n",
       "      <th>4</th>\n",
       "      <td>2015-08-13</td>\n",
       "      <td>1.827670</td>\n",
       "    </tr>\n",
       "  </tbody>\n",
       "</table>\n",
       "</div>"
      ],
      "text/plain": [
       "        Date     Close\n",
       "0 2015-08-07  2.772120\n",
       "1 2015-08-10  0.708448\n",
       "2 2015-08-11  1.067860\n",
       "3 2015-08-12  1.217440\n",
       "4 2015-08-13  1.827670"
      ]
     },
     "execution_count": 141,
     "metadata": {},
     "output_type": "execute_result"
    }
   ],
   "source": [
    "dataset = pandas.read_excel('ETHUSD=X.xlsx', usecols=[0,4], skipfooter=3)\n",
    "dataset.fillna(method='ffill', inplace=True)\n",
    "\n",
    "dataset.head()"
   ]
  },
  {
   "cell_type": "code",
   "execution_count": 142,
   "metadata": {},
   "outputs": [
    {
     "data": {
      "image/png": "[encoded data removed]",
      "text/plain": [
       "<Figure size 432x288 with 1 Axes>"
      ]
     },
     "metadata": {
      "needs_background": "light"
     },
     "output_type": "display_data"
    }
   ],
   "source": [
    "plt.plot(dataset['Close'])\n",
    "plt.show()"
   ]
  },
  {
   "cell_type": "markdown",
   "metadata": {},
   "source": []
  },
  {
   "cell_type": "markdown",
   "metadata": {},
   "source": []
  },
  {
   "cell_type": "markdown",
   "metadata": {},
   "source": [
    "***The Long Short-Term Memory network, or LSTM network, is a recurrent neural network that is trained using Backpropagation Through Time and overcomes the vanishing gradient problem.***"
   ]
  },
  {
   "cell_type": "markdown",
   "metadata": {},
   "source": [
    "There are three types of gates within a unit:\n",
    "- **Forget Gate**: conditionally decides what information to throw away from the block.\n",
    "- **Input Gate**: conditionally decides which values from the input to update the memory state.\n",
    "- **Output Gate**: conditionally decides what to output based on input and the memory of the block."
   ]
  },
  {
   "cell_type": "markdown",
   "metadata": {},
   "source": [
    "### LMST Network Regression Types\n",
    "\n",
    "- Simple : Given (t)    ====> predict (t+1)\n",
    "- Window : Given (t-39 (t-38,..... (t-1), (t) =====> predict (t+1), (t+2) ... (t+10)\n",
    "Window is used in our example\n"
   ]
  },
  {
   "cell_type": "markdown",
   "metadata": {},
   "source": [
    "### Predict next 10 days(forward_days) depending on the previous 40 days (look_back) using LSTM Neural Networks"
   ]
  },
  {
   "cell_type": "markdown",
   "metadata": {},
   "source": [
    "#### LSTM Network for Regression\n",
    "\n",
    "We can phrase the problem as a regression problem.\n",
    "\n",
    "That is, given the price of stocks last 40 days, what is the price of stocks next 10 days?\n",
    "\n",
    "\n",
    "We can write a simple function to convert our single column of data into a two-column dataset:\n",
    "the first column containing these 40 days stocks stock count and the second column containing next 10 days stock price, to be predicted."
   ]
  },
  {
   "cell_type": "markdown",
   "metadata": {},
   "source": [
    "Before we do anything, it is a good idea to fix the random number seed to ensure our results are reproducible"
   ]
  },
  {
   "cell_type": "code",
   "execution_count": 143,
   "metadata": {},
   "outputs": [],
   "source": [
    "# fix random seed for reproducibility\n",
    "numpy.random.seed(7)"
   ]
  },
  {
   "cell_type": "markdown",
   "metadata": {},
   "source": [
    "We can load this dataset easily using the Pandas library. <br>\n",
    "We are not interested in the date, open price ... etc\n",
    "given that each observation is separated by the same interval of one day. <br>\n",
    "Therefore, when we load the dataset **we can exclude the other columns and keep only the close price**."
   ]
  },
  {
   "cell_type": "code",
   "execution_count": 144,
   "metadata": {},
   "outputs": [
    {
     "data": {
      "text/html": [
       "<div>\n",
       "<style scoped>\n",
       "    .dataframe tbody tr th:only-of-type {\n",
       "        vertical-align: middle;\n",
       "    }\n",
       "\n",
       "    .dataframe tbody tr th {\n",
       "        vertical-align: top;\n",
       "    }\n",
       "\n",
       "    .dataframe thead th {\n",
       "        text-align: right;\n",
       "    }\n",
       "</style>\n",
       "<table border=\"1\" class=\"dataframe\">\n",
       "  <thead>\n",
       "    <tr style=\"text-align: right;\">\n",
       "      <th></th>\n",
       "      <th>Close</th>\n",
       "    </tr>\n",
       "  </thead>\n",
       "  <tbody>\n",
       "    <tr>\n",
       "      <th>0</th>\n",
       "      <td>2.772120</td>\n",
       "    </tr>\n",
       "    <tr>\n",
       "      <th>1</th>\n",
       "      <td>0.708448</td>\n",
       "    </tr>\n",
       "    <tr>\n",
       "      <th>2</th>\n",
       "      <td>1.067860</td>\n",
       "    </tr>\n",
       "    <tr>\n",
       "      <th>3</th>\n",
       "      <td>1.217440</td>\n",
       "    </tr>\n",
       "    <tr>\n",
       "      <th>4</th>\n",
       "      <td>1.827670</td>\n",
       "    </tr>\n",
       "  </tbody>\n",
       "</table>\n",
       "</div>"
      ],
      "text/plain": [
       "      Close\n",
       "0  2.772120\n",
       "1  0.708448\n",
       "2  1.067860\n",
       "3  1.217440\n",
       "4  1.827670"
      ]
     },
     "execution_count": 144,
     "metadata": {},
     "output_type": "execute_result"
    }
   ],
   "source": [
    "# load the dataset sales-of-soaps.csv\n",
    "dataframe = pandas.read_excel('ETHUSD=X.xlsx', usecols=[4])\n",
    "#dataframe = pandas.read_csv('international-airline-passengers.csv', usecols=[1], engine='python')\n",
    "dataframe.fillna(method='ffill', inplace=True)\n",
    "\n",
    "dataframe.head()\n",
    "#print(type(dataframe.dtypes))"
   ]
  },
  {
   "cell_type": "markdown",
   "metadata": {},
   "source": [
    "- ** extract the NumPy array from the dataframe** <br>\n",
    "- Then **convert the integer values to floating point values**, which are more suitable for modeling with a neural network."
   ]
  },
  {
   "cell_type": "code",
   "execution_count": 145,
   "metadata": {},
   "outputs": [],
   "source": [
    "dataset = dataframe.values      ##   convert the data-frame to its Numpy-array\n",
    "dataset = dataset.astype('float32')"
   ]
  },
  {
   "cell_type": "markdown",
   "metadata": {},
   "source": [
    "### Important:\n",
    "**LSTMs** are sensitive to the scale of the input data, specifically when the ***sigmoid (default)*** or ***tanh*** activation functions are used. <br>\n",
    "It can be a good practice to rescale the data to the range of 0-to-1, also called ** normalizing**.<br>\n",
    "We can easily normalize the dataset using the MinMaxScaler preprocessing class from the scikit-learn library."
   ]
  },
  {
   "cell_type": "code",
   "execution_count": 146,
   "metadata": {},
   "outputs": [],
   "source": [
    "# normalize the dataset\n",
    "scaler = MinMaxScaler(feature_range=(0, 1))\n",
    "dataset = scaler.fit_transform(dataset)"
   ]
  },
  {
   "cell_type": "markdown",
   "metadata": {},
   "source": [
    "Doing a Train-Test Split<br>\n",
    "Train: 67%<br>\n",
    "Test:  33%"
   ]
  },
  {
   "cell_type": "code",
   "execution_count": 147,
   "metadata": {},
   "outputs": [
    {
     "name": "stdout",
     "output_type": "stream",
     "text": [
      "798 394\n"
     ]
    }
   ],
   "source": [
    "# split into train and test sets\n",
    "train_size = int(len(dataset) * 0.67)\n",
    "test_size = len(dataset) - train_size\n",
    "\n",
    "train, test = dataset[0:train_size,:], dataset[train_size:len(dataset),:]\n",
    "print(len(train), len(test))"
   ]
  },
  {
   "cell_type": "markdown",
   "metadata": {},
   "source": [
    "#### Cross Validation\n",
    "\n",
    "##### When using time series data, the sequence of values is important. <br>\n",
    "\n",
    "Now we can define a function to create a new dataset.\n",
    "\n",
    "The function takes two arguments: the ***dataset***, which is a NumPy array that we want to convert into a dataset, and the ***look_back***, which is the number of previous time steps to use as input variables to predict the next time period — in this case defaulted to 40.\n",
    "\n",
    "This default will create a dataset where X is the  price of stocks last 40 days and Y is the price at the next 10 days.\n",
    "\n",
    "It can be configured, and we will be constructing a differently shaped dataset in the next section."
   ]
  },
  {
   "cell_type": "code",
   "execution_count": 148,
   "metadata": {},
   "outputs": [],
   "source": [
    "forward_days = 10\n",
    "# convert an array of values into a dataset matrix\n",
    "def create_dataset(dataset, look_back=40):\n",
    "\tdataX, dataY = [], []\n",
    "\tfor i in range(len(dataset)-look_back-forward_days+1):\n",
    "\t\ta = dataset[i:(i+look_back), 0]\n",
    "\t\tdataX.append(a)\n",
    "\t\tdataY.append(dataset[i + look_back, 0])\n",
    "\treturn numpy.array(dataX), numpy.array(dataY)"
   ]
  },
  {
   "cell_type": "markdown",
   "metadata": {},
   "source": []
  },
  {
   "cell_type": "raw",
   "metadata": {},
   "source": []
  },
  {
   "cell_type": "markdown",
   "metadata": {},
   "source": [
    "\n",
    "Let’s use this function to prepare the train and test datasets for modeling."
   ]
  },
  {
   "cell_type": "code",
   "execution_count": 149,
   "metadata": {},
   "outputs": [],
   "source": [
    "# reshape into X=t and Y=t+1\n",
    "look_back = 40\n",
    "\n",
    "trainX, trainY = create_dataset(train, look_back)\n",
    "testX, testY = create_dataset(test, look_back)"
   ]
  },
  {
   "cell_type": "code",
   "execution_count": null,
   "metadata": {},
   "outputs": [],
   "source": []
  },
  {
   "cell_type": "code",
   "execution_count": 150,
   "metadata": {},
   "outputs": [
    {
     "data": {
      "text/plain": [
       "(749, 40)"
      ]
     },
     "execution_count": 150,
     "metadata": {},
     "output_type": "execute_result"
    }
   ],
   "source": [
    "trainX.shape"
   ]
  },
  {
   "cell_type": "markdown",
   "metadata": {},
   "source": []
  },
  {
   "cell_type": "code",
   "execution_count": null,
   "metadata": {},
   "outputs": [],
   "source": []
  },
  {
   "cell_type": "code",
   "execution_count": 151,
   "metadata": {},
   "outputs": [],
   "source": [
    "# reshape input to be [samples, time steps, features]\n",
    "\n",
    "trainX = numpy.reshape(trainX, (trainX.shape[0], trainX.shape[1], 1))\n",
    "testX = numpy.reshape(testX, (testX.shape[0], testX.shape[1], 1))"
   ]
  },
  {
   "cell_type": "code",
   "execution_count": null,
   "metadata": {},
   "outputs": [],
   "source": []
  },
  {
   "cell_type": "code",
   "execution_count": 152,
   "metadata": {},
   "outputs": [
    {
     "data": {
      "text/plain": [
       "(749, 40, 1)"
      ]
     },
     "execution_count": 152,
     "metadata": {},
     "output_type": "execute_result"
    }
   ],
   "source": [
    "trainX.shape"
   ]
  },
  {
   "cell_type": "markdown",
   "metadata": {},
   "source": [
    "We are now ready to design and fit our LSTM network for this problem.\n",
    "\n",
    "The network has :<br>\n",
    "- a visible layer with 1 input<br>\n",
    "- a hidden layer with 4 LSTM blocks or neurons<br>\n",
    "- an output layer that makes a single value prediction. <br>\n",
    "\n",
    "The default sigmoid activation function is used for the LSTM blocks. <br>\n",
    "The network is trained for 40 epochs and a batch size of 40 is used."
   ]
  },
  {
   "cell_type": "code",
   "execution_count": 83,
   "metadata": {},
   "outputs": [],
   "source": [
    "# create the LSTM network\n",
    "model = Sequential()\n",
    "model.add(LSTM(8, input_shape=(look_back, 1), return_sequences=True))\n",
    "model.add(LSTM(8, return_sequences=True))\n",
    "model.add(LSTM(8, return_sequences=True))\n",
    "model.add(LSTM(8, return_sequences=True))\n",
    "model.add(LSTM(8))\n",
    "model.add(Dense(1))\n",
    "from keras import optimizers\n",
    "adam = optimizers. Adam(lr=0.001, decay=1e-6)\n",
    "\n",
    "model.compile(loss='mean_squared_error', optimizer=adam, metrics=['accuracy'])"
   ]
  },
  {
   "cell_type": "code",
   "execution_count": 84,
   "metadata": {},
   "outputs": [
    {
     "name": "stdout",
     "output_type": "stream",
     "text": [
      "Model: \"sequential_4\"\n",
      "_________________________________________________________________\n",
      "Layer (type)                 Output Shape              Param #   \n",
      "=================================================================\n",
      "lstm_16 (LSTM)               (None, 40, 8)             320       \n",
      "_________________________________________________________________\n",
      "lstm_17 (LSTM)               (None, 40, 8)             544       \n",
      "_________________________________________________________________\n",
      "lstm_18 (LSTM)               (None, 40, 8)             544       \n",
      "_________________________________________________________________\n",
      "lstm_19 (LSTM)               (None, 40, 8)             544       \n",
      "_________________________________________________________________\n",
      "lstm_20 (LSTM)               (None, 8)                 544       \n",
      "_________________________________________________________________\n",
      "dense_4 (Dense)              (None, 1)                 9         \n",
      "=================================================================\n",
      "Total params: 2,505\n",
      "Trainable params: 2,505\n",
      "Non-trainable params: 0\n",
      "_________________________________________________________________\n"
     ]
    }
   ],
   "source": [
    "model.summary()\n",
    "#model.load_weights('LSTM_weights.h5')\n",
    "adam = optimizers. Adam(lr=0.0015, decay=1.5e-6)\n",
    "\n",
    "model.compile(loss='mean_squared_error', optimizer=adam, metrics=['accuracy'])"
   ]
  },
  {
   "cell_type": "markdown",
   "metadata": {},
   "source": [
    "from keras.utils.vis_utils import plot_model\n",
    "plot_model(model, to_file='LSTM_model_plot1.png')\n",
    "\n",
    "%pylab inline\n",
    "import matplotlib.pyplot as plt\n",
    "import matplotlib.image as mpimg\n",
    "img=mpimg.imread('LSTM_model_plot1.png')\n",
    "imgplot = plt.imshow(img)\n",
    "plt.show()\n",
    "\n",
    "#!pip install GraphViz \n",
    "import os\n",
    "os.environ[\"PATH\"] += os.pathsep + 'C:/ProgramData/Anaconda3/Library/bin/graphviz/'\n",
    "from keras.utils.vis_utils import plot_model\n",
    "plot_model(model, to_file='LSTM_model_plot2.png', show_shapes=True, show_layer_names=True)"
   ]
  },
  {
   "cell_type": "code",
   "execution_count": 153,
   "metadata": {},
   "outputs": [
    {
     "name": "stdout",
     "output_type": "stream",
     "text": [
      "Epoch 1/150\n",
      " - 3s - loss: 2.8493e-04 - accuracy: 0.0013\n",
      "Epoch 2/150\n",
      " - 2s - loss: 2.9236e-04 - accuracy: 0.0013\n",
      "Epoch 3/150\n",
      " - 2s - loss: 2.4125e-04 - accuracy: 0.0013\n",
      "Epoch 4/150\n",
      " - 2s - loss: 2.4166e-04 - accuracy: 0.0013\n",
      "Epoch 5/150\n",
      " - 3s - loss: 2.6965e-04 - accuracy: 0.0013\n",
      "Epoch 6/150\n",
      " - 3s - loss: 2.5690e-04 - accuracy: 0.0013\n",
      "Epoch 7/150\n",
      " - 3s - loss: 2.9903e-04 - accuracy: 0.0013\n",
      "Epoch 8/150\n",
      " - 3s - loss: 2.5630e-04 - accuracy: 0.0013\n",
      "Epoch 9/150\n",
      " - 3s - loss: 2.5900e-04 - accuracy: 0.0013\n",
      "Epoch 10/150\n",
      " - 3s - loss: 2.2301e-04 - accuracy: 0.0013\n",
      "Epoch 11/150\n",
      " - 3s - loss: 2.5831e-04 - accuracy: 0.0013\n",
      "Epoch 12/150\n",
      " - 3s - loss: 2.3687e-04 - accuracy: 0.0013\n",
      "Epoch 13/150\n",
      " - 2s - loss: 2.1510e-04 - accuracy: 0.0013\n",
      "Epoch 14/150\n",
      " - 2s - loss: 2.1344e-04 - accuracy: 0.0013\n",
      "Epoch 15/150\n",
      " - 2s - loss: 2.4754e-04 - accuracy: 0.0013\n",
      "Epoch 16/150\n",
      " - 2s - loss: 2.6013e-04 - accuracy: 0.0013\n",
      "Epoch 17/150\n",
      " - 2s - loss: 2.6273e-04 - accuracy: 0.0013\n",
      "Epoch 18/150\n",
      " - 2s - loss: 2.2016e-04 - accuracy: 0.0013\n",
      "Epoch 19/150\n",
      " - 2s - loss: 2.2868e-04 - accuracy: 0.0013\n",
      "Epoch 20/150\n",
      " - 2s - loss: 2.1264e-04 - accuracy: 0.0013\n",
      "Epoch 21/150\n",
      " - 2s - loss: 2.0453e-04 - accuracy: 0.0013\n",
      "Epoch 22/150\n",
      " - 2s - loss: 2.1584e-04 - accuracy: 0.0013\n",
      "Epoch 23/150\n",
      " - 2s - loss: 2.0823e-04 - accuracy: 0.0013\n",
      "Epoch 24/150\n",
      " - 2s - loss: 2.5789e-04 - accuracy: 0.0013\n",
      "Epoch 25/150\n",
      " - 2s - loss: 2.2157e-04 - accuracy: 0.0013\n",
      "Epoch 26/150\n",
      " - 2s - loss: 2.6386e-04 - accuracy: 0.0013\n",
      "Epoch 27/150\n",
      " - 2s - loss: 2.3320e-04 - accuracy: 0.0013\n",
      "Epoch 28/150\n",
      " - 2s - loss: 2.1183e-04 - accuracy: 0.0013\n",
      "Epoch 29/150\n",
      " - 2s - loss: 2.1744e-04 - accuracy: 0.0013\n",
      "Epoch 30/150\n",
      " - 2s - loss: 2.2235e-04 - accuracy: 0.0013\n",
      "Epoch 31/150\n",
      " - 2s - loss: 3.0589e-04 - accuracy: 0.0013\n",
      "Epoch 32/150\n",
      " - 2s - loss: 2.2395e-04 - accuracy: 0.0013\n",
      "Epoch 33/150\n",
      " - 2s - loss: 2.4962e-04 - accuracy: 0.0013\n",
      "Epoch 34/150\n",
      " - 2s - loss: 2.1457e-04 - accuracy: 0.0013\n",
      "Epoch 35/150\n",
      " - 2s - loss: 1.9636e-04 - accuracy: 0.0013\n",
      "Epoch 36/150\n",
      " - 2s - loss: 2.0356e-04 - accuracy: 0.0013\n",
      "Epoch 37/150\n",
      " - 2s - loss: 2.0979e-04 - accuracy: 0.0013\n",
      "Epoch 38/150\n",
      " - 3s - loss: 2.3456e-04 - accuracy: 0.0013\n",
      "Epoch 39/150\n",
      " - 3s - loss: 2.0495e-04 - accuracy: 0.0013\n",
      "Epoch 40/150\n",
      " - 2s - loss: 2.1969e-04 - accuracy: 0.0013\n",
      "Epoch 41/150\n",
      " - 2s - loss: 2.0058e-04 - accuracy: 0.0013\n",
      "Epoch 42/150\n",
      " - 2s - loss: 1.9344e-04 - accuracy: 0.0013\n",
      "Epoch 43/150\n",
      " - 2s - loss: 2.1939e-04 - accuracy: 0.0013\n",
      "Epoch 44/150\n",
      " - 2s - loss: 2.4289e-04 - accuracy: 0.0013\n",
      "Epoch 45/150\n",
      " - 2s - loss: 2.3546e-04 - accuracy: 0.0013\n",
      "Epoch 46/150\n",
      " - 2s - loss: 1.8572e-04 - accuracy: 0.0013\n",
      "Epoch 47/150\n",
      " - 2s - loss: 2.0249e-04 - accuracy: 0.0013\n",
      "Epoch 48/150\n",
      " - 2s - loss: 2.2464e-04 - accuracy: 0.0013\n",
      "Epoch 49/150\n",
      " - 2s - loss: 1.8285e-04 - accuracy: 0.0013\n",
      "Epoch 50/150\n",
      " - 2s - loss: 2.2323e-04 - accuracy: 0.0013\n",
      "Epoch 51/150\n",
      " - 2s - loss: 2.2358e-04 - accuracy: 0.0013\n",
      "Epoch 52/150\n",
      " - 2s - loss: 2.1285e-04 - accuracy: 0.0013\n",
      "Epoch 53/150\n",
      " - 2s - loss: 2.4945e-04 - accuracy: 0.0013\n",
      "Epoch 54/150\n",
      " - 3s - loss: 2.4590e-04 - accuracy: 0.0013\n",
      "Epoch 55/150\n",
      " - 2s - loss: 2.1534e-04 - accuracy: 0.0013\n",
      "Epoch 56/150\n",
      " - 2s - loss: 2.0861e-04 - accuracy: 0.0013\n",
      "Epoch 57/150\n",
      " - 2s - loss: 2.0239e-04 - accuracy: 0.0013\n",
      "Epoch 58/150\n",
      " - 2s - loss: 2.1767e-04 - accuracy: 0.0013\n",
      "Epoch 59/150\n",
      " - 2s - loss: 1.8258e-04 - accuracy: 0.0013\n",
      "Epoch 60/150\n",
      " - 2s - loss: 2.5116e-04 - accuracy: 0.0013\n",
      "Epoch 61/150\n",
      " - 2s - loss: 2.1507e-04 - accuracy: 0.0013\n",
      "Epoch 62/150\n",
      " - 2s - loss: 1.7862e-04 - accuracy: 0.0013\n",
      "Epoch 63/150\n",
      " - 2s - loss: 1.7914e-04 - accuracy: 0.0013\n",
      "Epoch 64/150\n",
      " - 2s - loss: 1.9092e-04 - accuracy: 0.0013\n",
      "Epoch 65/150\n",
      " - 2s - loss: 2.1426e-04 - accuracy: 0.0013\n",
      "Epoch 66/150\n",
      " - 2s - loss: 1.6992e-04 - accuracy: 0.0013\n",
      "Epoch 67/150\n",
      " - 2s - loss: 1.9135e-04 - accuracy: 0.0013\n",
      "Epoch 68/150\n",
      " - 2s - loss: 2.0716e-04 - accuracy: 0.0013\n",
      "Epoch 69/150\n",
      " - 2s - loss: 2.2200e-04 - accuracy: 0.0013\n",
      "Epoch 70/150\n",
      " - 2s - loss: 1.8692e-04 - accuracy: 0.0013\n",
      "Epoch 71/150\n",
      " - 2s - loss: 1.8450e-04 - accuracy: 0.0013\n",
      "Epoch 72/150\n",
      " - 2s - loss: 2.0331e-04 - accuracy: 0.0013\n",
      "Epoch 73/150\n",
      " - 2s - loss: 1.8191e-04 - accuracy: 0.0013\n",
      "Epoch 74/150\n",
      " - 2s - loss: 2.2818e-04 - accuracy: 0.0013\n",
      "Epoch 75/150\n",
      " - 2s - loss: 3.0861e-04 - accuracy: 0.0013\n",
      "Epoch 76/150\n",
      " - 2s - loss: 1.9392e-04 - accuracy: 0.0013\n",
      "Epoch 77/150\n",
      " - 2s - loss: 1.8121e-04 - accuracy: 0.0013\n",
      "Epoch 78/150\n",
      " - 2s - loss: 2.1072e-04 - accuracy: 0.0013\n",
      "Epoch 79/150\n",
      " - 2s - loss: 1.8254e-04 - accuracy: 0.0013\n",
      "Epoch 80/150\n",
      " - 3s - loss: 1.8632e-04 - accuracy: 0.0013\n",
      "Epoch 81/150\n",
      " - 3s - loss: 2.1168e-04 - accuracy: 0.0013\n",
      "Epoch 82/150\n",
      " - 2s - loss: 2.0454e-04 - accuracy: 0.0013\n",
      "Epoch 83/150\n",
      " - 2s - loss: 2.0179e-04 - accuracy: 0.0013\n",
      "Epoch 84/150\n",
      " - 2s - loss: 2.0630e-04 - accuracy: 0.0013\n",
      "Epoch 85/150\n",
      " - 2s - loss: 1.8703e-04 - accuracy: 0.0013\n",
      "Epoch 86/150\n",
      " - 2s - loss: 1.9564e-04 - accuracy: 0.0013\n",
      "Epoch 87/150\n",
      " - 3s - loss: 1.8580e-04 - accuracy: 0.0013\n",
      "Epoch 88/150\n",
      " - 3s - loss: 2.0682e-04 - accuracy: 0.0013\n",
      "Epoch 89/150\n",
      " - 3s - loss: 1.7245e-04 - accuracy: 0.0013\n",
      "Epoch 90/150\n",
      " - 2s - loss: 1.8169e-04 - accuracy: 0.0013\n",
      "Epoch 91/150\n",
      " - 2s - loss: 2.1807e-04 - accuracy: 0.0013\n",
      "Epoch 92/150\n",
      " - 2s - loss: 1.9977e-04 - accuracy: 0.0013\n",
      "Epoch 93/150\n",
      " - 2s - loss: 1.7477e-04 - accuracy: 0.0013\n",
      "Epoch 94/150\n",
      " - 2s - loss: 1.6893e-04 - accuracy: 0.0013\n",
      "Epoch 95/150\n",
      " - 2s - loss: 1.6228e-04 - accuracy: 0.0013\n",
      "Epoch 96/150\n",
      " - 2s - loss: 1.7379e-04 - accuracy: 0.0013\n",
      "Epoch 97/150\n",
      " - 3s - loss: 2.2139e-04 - accuracy: 0.0013\n",
      "Epoch 98/150\n",
      " - 4s - loss: 2.0975e-04 - accuracy: 0.0013\n",
      "Epoch 99/150\n",
      " - 3s - loss: 1.6455e-04 - accuracy: 0.0013\n",
      "Epoch 100/150\n",
      " - 3s - loss: 1.6364e-04 - accuracy: 0.0013\n",
      "Epoch 101/150\n",
      " - 2s - loss: 1.8126e-04 - accuracy: 0.0013\n",
      "Epoch 102/150\n",
      " - 3s - loss: 2.0886e-04 - accuracy: 0.0013\n",
      "Epoch 103/150\n",
      " - 3s - loss: 1.7927e-04 - accuracy: 0.0013\n",
      "Epoch 104/150\n",
      " - 3s - loss: 1.8280e-04 - accuracy: 0.0013\n",
      "Epoch 105/150\n",
      " - 2s - loss: 1.8607e-04 - accuracy: 0.0013\n",
      "Epoch 106/150\n",
      " - 3s - loss: 1.9034e-04 - accuracy: 0.0013\n",
      "Epoch 107/150\n",
      " - 2s - loss: 1.9763e-04 - accuracy: 0.0013\n",
      "Epoch 108/150\n",
      " - 2s - loss: 2.5168e-04 - accuracy: 0.0013\n",
      "Epoch 109/150\n",
      " - 2s - loss: 2.4309e-04 - accuracy: 0.0013\n",
      "Epoch 110/150\n",
      " - 2s - loss: 2.0168e-04 - accuracy: 0.0013\n",
      "Epoch 111/150\n",
      " - 2s - loss: 2.0726e-04 - accuracy: 0.0013\n",
      "Epoch 112/150\n",
      " - 2s - loss: 2.0365e-04 - accuracy: 0.0013\n",
      "Epoch 113/150\n",
      " - 2s - loss: 1.6791e-04 - accuracy: 0.0013\n",
      "Epoch 114/150\n",
      " - 2s - loss: 1.5516e-04 - accuracy: 0.0013\n",
      "Epoch 115/150\n",
      " - 2s - loss: 1.7952e-04 - accuracy: 0.0013\n",
      "Epoch 116/150\n",
      " - 2s - loss: 1.6634e-04 - accuracy: 0.0013\n",
      "Epoch 117/150\n",
      " - 2s - loss: 1.6970e-04 - accuracy: 0.0013\n",
      "Epoch 118/150\n",
      " - 2s - loss: 1.5366e-04 - accuracy: 0.0013\n",
      "Epoch 119/150\n",
      " - 2s - loss: 1.8709e-04 - accuracy: 0.0013\n",
      "Epoch 120/150\n",
      " - 2s - loss: 1.8704e-04 - accuracy: 0.0013\n",
      "Epoch 121/150\n",
      " - 2s - loss: 1.6163e-04 - accuracy: 0.0013\n",
      "Epoch 122/150\n",
      " - 2s - loss: 1.8944e-04 - accuracy: 0.0013\n",
      "Epoch 123/150\n",
      " - 2s - loss: 1.6150e-04 - accuracy: 0.0013\n",
      "Epoch 124/150\n",
      " - 2s - loss: 1.5418e-04 - accuracy: 0.0013\n",
      "Epoch 125/150\n",
      " - 2s - loss: 1.6276e-04 - accuracy: 0.0013\n",
      "Epoch 126/150\n",
      " - 2s - loss: 1.7004e-04 - accuracy: 0.0013\n",
      "Epoch 127/150\n",
      " - 2s - loss: 1.5757e-04 - accuracy: 0.0013\n",
      "Epoch 128/150\n",
      " - 2s - loss: 1.5517e-04 - accuracy: 0.0013\n",
      "Epoch 129/150\n",
      " - 2s - loss: 1.5852e-04 - accuracy: 0.0013\n",
      "Epoch 130/150\n",
      " - 2s - loss: 1.6790e-04 - accuracy: 0.0013\n",
      "Epoch 131/150\n",
      " - 2s - loss: 1.6230e-04 - accuracy: 0.0013\n",
      "Epoch 132/150\n",
      " - 2s - loss: 1.5687e-04 - accuracy: 0.0013\n",
      "Epoch 133/150\n",
      " - 2s - loss: 1.6644e-04 - accuracy: 0.0013\n",
      "Epoch 134/150\n",
      " - 2s - loss: 1.8288e-04 - accuracy: 0.0013\n",
      "Epoch 135/150\n",
      " - 2s - loss: 1.7895e-04 - accuracy: 0.0013\n",
      "Epoch 136/150\n",
      " - 2s - loss: 1.6632e-04 - accuracy: 0.0013\n",
      "Epoch 137/150\n",
      " - 2s - loss: 1.8463e-04 - accuracy: 0.0013\n",
      "Epoch 138/150\n",
      " - 2s - loss: 1.7716e-04 - accuracy: 0.0013\n",
      "Epoch 139/150\n",
      " - 2s - loss: 1.7624e-04 - accuracy: 0.0013\n",
      "Epoch 140/150\n",
      " - 2s - loss: 1.9883e-04 - accuracy: 0.0013\n",
      "Epoch 141/150\n",
      " - 2s - loss: 1.7481e-04 - accuracy: 0.0013\n",
      "Epoch 142/150\n",
      " - 2s - loss: 1.7048e-04 - accuracy: 0.0013\n",
      "Epoch 143/150\n",
      " - 2s - loss: 1.6154e-04 - accuracy: 0.0013\n",
      "Epoch 144/150\n"
     ]
    },
    {
     "name": "stdout",
     "output_type": "stream",
     "text": [
      " - 2s - loss: 1.8058e-04 - accuracy: 0.0013\n",
      "Epoch 145/150\n",
      " - 2s - loss: 1.8234e-04 - accuracy: 0.0013\n",
      "Epoch 146/150\n",
      " - 2s - loss: 1.5117e-04 - accuracy: 0.0013\n",
      "Epoch 147/150\n",
      " - 2s - loss: 1.6861e-04 - accuracy: 0.0013\n",
      "Epoch 148/150\n",
      " - 2s - loss: 1.6525e-04 - accuracy: 0.0013\n",
      "Epoch 149/150\n",
      " - 2s - loss: 1.8073e-04 - accuracy: 0.0013\n",
      "Epoch 150/150\n",
      " - 2s - loss: 1.6908e-04 - accuracy: 0.0013\n",
      "Wall time: 5min 42s\n"
     ]
    },
    {
     "data": {
      "text/plain": [
       "<keras.callbacks.callbacks.History at 0x1c4ac41d2c8>"
      ]
     },
     "execution_count": 153,
     "metadata": {},
     "output_type": "execute_result"
    }
   ],
   "source": [
    "%%time\n",
    "# Fit the LSTM network\n",
    "import keras\n",
    "#mc = keras.callbacks.callbacks.ModelCheckpoint(\"mc\", monitor='loss', verbose=0, save_best_only=True, save_weights_only=True, mode='auto', period=10)\n",
    "\n",
    "#es = keras.callbacks.callbacks.EarlyStopping(monitor='loss', min_delta=0, patience=10, verbose=0, mode='auto', baseline=None, restore_best_weights=True)\n",
    "\n",
    "\n",
    "model.fit(trainX, trainY, epochs=150, batch_size=20, verbose=2) #, callbacks=[mc, es]\n"
   ]
  },
  {
   "cell_type": "markdown",
   "metadata": {},
   "source": [
    "Once the model is fit, we can estimate the performance of the model on the train and test datasets."
   ]
  },
  {
   "cell_type": "code",
   "execution_count": 154,
   "metadata": {},
   "outputs": [
    {
     "name": "stdout",
     "output_type": "stream",
     "text": [
      "[0.00015760414929383152, 0.0013351135421544313]\n",
      "['loss', 'accuracy']\n"
     ]
    }
   ],
   "source": [
    "#model.save_weights('LSTM_weights.h5')\n",
    "\n",
    "\n",
    "scores = model.evaluate(trainX, trainY, verbose=0)\n",
    "print(scores)\n",
    "print(model.metrics_names)\n"
   ]
  },
  {
   "cell_type": "code",
   "execution_count": 155,
   "metadata": {},
   "outputs": [],
   "source": [
    "# make predictions\n",
    "trainPredict = model.predict(trainX)\n",
    "testPredict = model.predict(testX)\n"
   ]
  },
  {
   "cell_type": "markdown",
   "metadata": {},
   "source": [
    "***Note that we invert the predictions before calculating error scores \n",
    "to ensure that performance is reported in the same units as the original data (thousands of passengers per month).***"
   ]
  },
  {
   "cell_type": "code",
   "execution_count": 156,
   "metadata": {},
   "outputs": [],
   "source": [
    "# invert predictions\n",
    "trainPredict = scaler.inverse_transform(trainPredict)\n",
    "trainY = scaler.inverse_transform([trainY])\n",
    "testPredict = scaler.inverse_transform(testPredict)\n",
    "testY = scaler.inverse_transform([testY])"
   ]
  },
  {
   "cell_type": "code",
   "execution_count": 157,
   "metadata": {},
   "outputs": [
    {
     "name": "stdout",
     "output_type": "stream",
     "text": [
      "Train Score: 266.07 MSE\n",
      "Test Score: 298.32 MSE\n"
     ]
    }
   ],
   "source": [
    "# calculate root mean squared error\n",
    "trainScore = mean_squared_error(trainY[0], trainPredict[:,0])\n",
    "print('Train Score: %.2f MSE' % (trainScore))\n",
    "testScore = mean_squared_error(testY[0], testPredict[:,0])\n",
    "print('Test Score: %.2f MSE' % (testScore))"
   ]
  },
  {
   "cell_type": "code",
   "execution_count": 158,
   "metadata": {},
   "outputs": [],
   "source": [
    "## Train Score: 23.70 RMSE Test Score: 58.87 RMSE (LSTM - 4) Lookback-3\n",
    "## Train Score: 13.53 RMSE Test Score: 37.48 RMSE (LSTM - 64) Lookback-12"
   ]
  },
  {
   "cell_type": "markdown",
   "metadata": {},
   "source": [
    "Because of how the dataset was prepared, we must shift the predictions so that they align on the x-axis with the original dataset. Once prepared, the data is plotted, showing the original dataset in blue, the predictions for the training dataset in green, and the predictions on the unseen test dataset in red."
   ]
  },
  {
   "cell_type": "code",
   "execution_count": 132,
   "metadata": {},
   "outputs": [],
   "source": [
    "datedate = pandas.read_excel('ETHUSD=X.xlsx', usecols=[0], skipfooter=3)\n"
   ]
  },
  {
   "cell_type": "code",
   "execution_count": 139,
   "metadata": {},
   "outputs": [
    {
     "data": {
      "image/png": "[encoded data removed]",
      "text/plain": [
       "<Figure size 1440x720 with 1 Axes>"
      ]
     },
     "metadata": {
      "needs_background": "light"
     },
     "output_type": "display_data"
    }
   ],
   "source": [
    "# plot baseline and predictions\n",
    "plt.figure(figsize=(20,10))\n",
    "plt.grid()\n",
    "plt.plot(datedate.tail(345),testPredict, label=' predicted', color='red')\n",
    "plt.plot(datedate.tail(345),testY[0], label=' actual value', color='blue')\n",
    "\n",
    "plt.xlabel('Date', fontsize=30)\n",
    "plt.ylabel('Price in USD', fontsize=30)\n",
    "plt.xticks(fontsize=14)\n",
    "plt.yticks(fontsize=14)\n",
    "\n",
    "plt.legend()\n",
    "\n",
    "plt.show()"
   ]
  },
  {
   "cell_type": "code",
   "execution_count": null,
   "metadata": {},
   "outputs": [],
   "source": []
  },
  {
   "cell_type": "code",
   "execution_count": null,
   "metadata": {},
   "outputs": [],
   "source": []
  },
  {
   "cell_type": "code",
   "execution_count": null,
   "metadata": {},
   "outputs": [],
   "source": []
  }
 ],
 "metadata": {
  "kernelspec": {
   "display_name": "Python 3",
   "language": "python",
   "name": "python3"
  },
  "language_info": {
   "codemirror_mode": {
    "name": "ipython",
    "version": 3
   },
   "file_extension": ".py",
   "mimetype": "text/x-python",
   "name": "python",
   "nbconvert_exporter": "python",
   "pygments_lexer": "ipython3",
   "version": "3.7.4"
  }
 },
 "nbformat": 4,
 "nbformat_minor": 2
}
